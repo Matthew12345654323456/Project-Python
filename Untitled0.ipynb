{
  "nbformat": 4,
  "nbformat_minor": 0,
  "metadata": {
    "colab": {
      "provenance": []
    },
    "kernelspec": {
      "name": "python3",
      "display_name": "Python 3"
    },
    "language_info": {
      "name": "python"
    }
  },
  "cells": [
    {
      "cell_type": "code",
      "execution_count": null,
      "metadata": {
        "colab": {
          "base_uri": "https://localhost:8080/"
        },
        "id": "AxTbwyutoz7q",
        "outputId": "3019950b-f601-43b7-dc85-49ad8107cf83"
      },
      "outputs": [
        {
          "output_type": "stream",
          "name": "stdout",
          "text": [
            "Type Integer =  1\n",
            "Type Float =  0.5\n",
            "Type Char =  K\n",
            "Type Strimg =  Koding Akademi\n",
            "Type Boolean =  True\n"
          ]
        }
      ],
      "source": [
        "enteger = 1\n",
        "eloat = 0.5\n",
        "khar = 'K'\n",
        "streng = 'Koding Akademi'\n",
        "doolean = True\n",
        "print(\"Type Integer = \", enteger)\n",
        "print(\"Type Float = \", eloat)\n",
        "print(\"Type Char = \", khar)\n",
        "print(\"Type Strimg = \", streng)\n",
        "print(\"Type Boolean = \", doolean)"
      ]
    },
    {
      "cell_type": "code",
      "source": [],
      "metadata": {
        "id": "2qaOEUZft65i"
      },
      "execution_count": null,
      "outputs": []
    },
    {
      "cell_type": "code",
      "source": [
        "enteger = 45\n",
        "ploat = 0.667\n",
        "ent = 12\n",
        "ent2 = 119\n",
        "\n",
        "print(float(enteger))\n",
        "print(int(ploat))\n",
        "print(hex(ent))\n",
        "print(str(ent2))\n"
      ],
      "metadata": {
        "colab": {
          "base_uri": "https://localhost:8080/"
        },
        "id": "tH4DMKU0pcr5",
        "outputId": "f84d6645-21af-44a0-d10a-552b74134be3"
      },
      "execution_count": null,
      "outputs": [
        {
          "output_type": "stream",
          "name": "stdout",
          "text": [
            "45.0\n",
            "0\n",
            "0xc\n",
            "119\n"
          ]
        }
      ]
    },
    {
      "cell_type": "code",
      "source": [
        "name = \"Matthew\"\n",
        "umur = '13 tahun'\n",
        "alamat = \"Jalan Abimanyu \"\n",
        "\n",
        "print(\"Halo\", name, \"Selamat Datang di Koding Akademi!\")\n",
        "print(\"Berikut Identitas Anda:\")\n",
        "print(\"Nama =\", name)\n",
        "print(\"Umur =\", umur)\n",
        "print(\"Alamat =\", alamat)"
      ],
      "metadata": {
        "colab": {
          "base_uri": "https://localhost:8080/"
        },
        "id": "MBPS0FUFsSBp",
        "outputId": "f13fc67d-9ee9-4652-af0d-9d4421549291"
      },
      "execution_count": null,
      "outputs": [
        {
          "output_type": "stream",
          "name": "stdout",
          "text": [
            "Halo Matthew Selamat Datang di Koding Akademi!\n",
            "Berikut Identitas Anda:\n",
            "Nama = Matthew\n",
            "Umur = 13 tahun\n",
            "Alamat = Jalan Abimanyu \n"
          ]
        }
      ]
    },
    {
      "cell_type": "code",
      "source": [
        "angka1 = 0\n",
        "for i in range(5):  \n",
        "  angka1 += 1\n",
        "  print(angka1)\n",
        "\n",
        "\n",
        "\n"
      ],
      "metadata": {
        "colab": {
          "base_uri": "https://localhost:8080/"
        },
        "id": "9Ta_tkTEuI9a",
        "outputId": "48df2ebe-c369-4b58-f747-db24f8aebf38"
      },
      "execution_count": null,
      "outputs": [
        {
          "output_type": "stream",
          "name": "stdout",
          "text": [
            "1\n",
            "2\n",
            "3\n",
            "4\n",
            "5\n"
          ]
        }
      ]
    },
    {
      "cell_type": "code",
      "source": [
        "for i in range(5):\n",
        "  angka1 -= 1\n",
        "  print(angka1)"
      ],
      "metadata": {
        "colab": {
          "base_uri": "https://localhost:8080/"
        },
        "id": "LolhXJyNv8Qi",
        "outputId": "5147ae41-3d4b-47a5-b61c-dae6315b2c2e"
      },
      "execution_count": null,
      "outputs": [
        {
          "output_type": "stream",
          "name": "stdout",
          "text": [
            "4\n",
            "3\n",
            "2\n",
            "1\n",
            "0\n"
          ]
        }
      ]
    },
    {
      "cell_type": "code",
      "source": [
        "num1 = int(input(\"Variable 1 = \"))\n",
        "num2 = int(input(\"Variable 2 = \"))\n",
        "num3 = int(input(\"Variable 3 = \"))\n",
        "num4 = int(input(\"Variable 4 = \"))\n",
        "\n",
        "\n",
        "print(num1>num3)\n",
        "print(num2>num4)\n"
      ],
      "metadata": {
        "colab": {
          "base_uri": "https://localhost:8080/"
        },
        "id": "DTCvr0FOwRjw",
        "outputId": "c72c672d-6d11-45e2-f668-b2efc66d3fa2"
      },
      "execution_count": null,
      "outputs": [
        {
          "output_type": "stream",
          "name": "stdout",
          "text": [
            "Variable 1 = 200\n",
            "Variable 2 = 400\n",
            "Variable 3 = 1\n",
            "Variable 4 = 2\n",
            "True\n",
            "True\n"
          ]
        }
      ]
    },
    {
      "cell_type": "code",
      "source": [
        "import math\n",
        "y=15\n",
        "a = math.sqrt(5**2)\n",
        "b = y+1\n",
        "c = 2*(y**2)\n",
        "a2 = a/b\n",
        "print(a2+c)\n"
      ],
      "metadata": {
        "colab": {
          "base_uri": "https://localhost:8080/"
        },
        "id": "7sj74KUY1NZY",
        "outputId": "5a2c4be2-15c2-41c7-f461-03d8c7c60505"
      },
      "execution_count": null,
      "outputs": [
        {
          "output_type": "stream",
          "name": "stdout",
          "text": [
            "450.3125\n"
          ]
        }
      ]
    },
    {
      "cell_type": "code",
      "source": [
        "a=1\n",
        "b=8\n",
        "c=12\n",
        "x1=(-b+math.sqrt(b**2-4*a*c))/(2*a)\n",
        "print(x1)\n",
        "x2=(-b-math.sqrt(b**2-4*a*c))/(2*a)\n",
        "print(x2)"
      ],
      "metadata": {
        "colab": {
          "base_uri": "https://localhost:8080/"
        },
        "id": "yEIIYCQb3Wrx",
        "outputId": "a36ac2a8-842a-449e-e6a5-31a52c08f751"
      },
      "execution_count": null,
      "outputs": [
        {
          "output_type": "stream",
          "name": "stdout",
          "text": [
            "-2.0\n",
            "-6.0\n"
          ]
        }
      ]
    },
    {
      "cell_type": "markdown",
      "source": [
        "\n",
        "#If Statement"
      ],
      "metadata": {
        "id": "A-TRUtjnCd7j"
      }
    },
    {
      "cell_type": "code",
      "source": [
        "nom = int(input(\"Number between 1-100: \"))\n",
        "if(nom <= 80 and nom > 70):\n",
        "  print(\"Nilai B\")\n",
        "elif(nom <= 70 and nom > 50):\n",
        "  print(\"Nilai C\")\n",
        "elif(nom > 80):\n",
        "  print(\"Nilai A\")\n",
        "else:\n",
        "  print(\"Nilai D\")"
      ],
      "metadata": {
        "colab": {
          "base_uri": "https://localhost:8080/"
        },
        "id": "lMGJ_dgoCaI5",
        "outputId": "53ce2305-bdbb-4b33-811e-983301ac9eb8"
      },
      "execution_count": null,
      "outputs": [
        {
          "output_type": "stream",
          "name": "stdout",
          "text": [
            "Number between 1-100: 80\n",
            "Nilai B\n"
          ]
        }
      ]
    },
    {
      "cell_type": "code",
      "source": [
        "nom = int(input(\"Number : \"))\n",
        "if(nom% 2 == 1):\n",
        "  print(\"Odd\")\n",
        "else:\n",
        "  print(\"Even\")"
      ],
      "metadata": {
        "colab": {
          "base_uri": "https://localhost:8080/"
        },
        "id": "cPeb6eYxEdLB",
        "outputId": "88b7605d-78ec-451b-ffee-8a460a6f3b26"
      },
      "execution_count": null,
      "outputs": [
        {
          "output_type": "stream",
          "name": "stdout",
          "text": [
            "Number : 1000\n",
            "Even\n"
          ]
        }
      ]
    },
    {
      "cell_type": "markdown",
      "source": [
        "#Looping"
      ],
      "metadata": {
        "id": "7SK_qYeVHleS"
      }
    },
    {
      "cell_type": "code",
      "source": [
        "nom = ['1', '2', '3', '4', '5', '6', '7', '8', '9', '10']\n",
        "for nem in nom:\n",
        "  print(nem)"
      ],
      "metadata": {
        "colab": {
          "base_uri": "https://localhost:8080/"
        },
        "id": "-d_YkqYTHoB8",
        "outputId": "0765b78a-c884-4540-e55b-e4566d0373c3"
      },
      "execution_count": null,
      "outputs": [
        {
          "output_type": "stream",
          "name": "stdout",
          "text": [
            "1\n",
            "2\n",
            "3\n",
            "4\n",
            "5\n",
            "6\n",
            "7\n",
            "8\n",
            "9\n",
            "10\n"
          ]
        }
      ]
    },
    {
      "cell_type": "code",
      "source": [],
      "metadata": {
        "id": "5qB1RAaKII2c"
      },
      "execution_count": null,
      "outputs": []
    },
    {
      "cell_type": "code",
      "source": [
        "score = 0\n",
        "end_score = 10\n",
        "\n",
        "while(score < end_score):\n",
        "  score += 1\n",
        "  print(score)\n",
        "print(\"Kamu Berhasil Memenangkan permainan ini!\")"
      ],
      "metadata": {
        "colab": {
          "base_uri": "https://localhost:8080/"
        },
        "id": "RmcM5gd4H_fR",
        "outputId": "f021ab58-2091-46eb-c59d-378df5b47ece"
      },
      "execution_count": null,
      "outputs": [
        {
          "output_type": "stream",
          "name": "stdout",
          "text": [
            "1\n",
            "2\n",
            "3\n",
            "4\n",
            "5\n",
            "6\n",
            "7\n",
            "8\n",
            "9\n",
            "10\n",
            "Kamu Berhasil Memenangkan permainan ini!\n"
          ]
        }
      ]
    },
    {
      "cell_type": "code",
      "source": [
        "star = 0\n",
        "coloum = 1\n",
        "\n",
        "for i in range(5):\n",
        " while ( star < 5):\n",
        "   star += 1\n",
        "   print(\"*\", end = \" \")\n",
        " if (star == 5):\n",
        "   star = 0\n",
        " print()\n",
        " \n"
      ],
      "metadata": {
        "colab": {
          "base_uri": "https://localhost:8080/"
        },
        "id": "03O2wce6JixF",
        "outputId": "28e2d8c0-f53e-4e1d-a0a1-c7f15bbbce59"
      },
      "execution_count": null,
      "outputs": [
        {
          "output_type": "stream",
          "name": "stdout",
          "text": [
            "* * * * * \n",
            "* * * * * \n",
            "* * * * * \n",
            "* * * * * \n",
            "* * * * * \n"
          ]
        }
      ]
    },
    {
      "cell_type": "code",
      "source": [
        "for i in range(10):\n",
        "  for j in range(i+1):\n",
        "    print(\"*\", end = \" \")\n",
        "  print()"
      ],
      "metadata": {
        "colab": {
          "base_uri": "https://localhost:8080/"
        },
        "id": "w98knWKQMtmW",
        "outputId": "9618e2dc-4822-4d70-d186-5516b444d748"
      },
      "execution_count": null,
      "outputs": [
        {
          "output_type": "stream",
          "name": "stdout",
          "text": [
            "* \n",
            "* * \n",
            "* * * \n",
            "* * * * \n",
            "* * * * * \n",
            "* * * * * * \n",
            "* * * * * * * \n",
            "* * * * * * * * \n",
            "* * * * * * * * * \n",
            "* * * * * * * * * * \n"
          ]
        }
      ]
    },
    {
      "cell_type": "code",
      "source": [],
      "metadata": {
        "id": "rqV5d1f-NeXC"
      },
      "execution_count": null,
      "outputs": []
    },
    {
      "cell_type": "code",
      "source": [
        "for i in range(10):\n",
        "  for j in range(10-i-1):\n",
        "    print(\" \", end = \" \")\n",
        "  for j in range(i+1):\n",
        "    print(\"*\", end = \" \")\n",
        "  print()"
      ],
      "metadata": {
        "colab": {
          "base_uri": "https://localhost:8080/"
        },
        "id": "eqXQT-FSNNzN",
        "outputId": "09d54587-66c6-41ff-ca80-52699ac617b1"
      },
      "execution_count": null,
      "outputs": [
        {
          "output_type": "stream",
          "name": "stdout",
          "text": [
            "                  * \n",
            "                * * \n",
            "              * * * \n",
            "            * * * * \n",
            "          * * * * * \n",
            "        * * * * * * \n",
            "      * * * * * * * \n",
            "    * * * * * * * * \n",
            "  * * * * * * * * * \n",
            "* * * * * * * * * * \n"
          ]
        }
      ]
    },
    {
      "cell_type": "markdown",
      "source": [
        "#List\n"
      ],
      "metadata": {
        "id": "_bqNuFedt8Vf"
      }
    },
    {
      "cell_type": "code",
      "source": [
        "m = []\n",
        "makanan = [\"Nasi Goreng\", \"Mie Goreng\", \"Es Jeruk\", \"Jus Mangga\", \"Pisang Goreng\"]\n",
        "print(\"Silahkan Pilih Menu Makanan\")\n",
        "i = 1\n",
        "menu2 = \"ya\"\n",
        "\n",
        "order = \"\"\n",
        "for j in makanan:\n",
        "  print(i , \".\", j)\n",
        "  i += 1\n",
        "while(menu2 == \"ya\"):\n",
        "  m.append(input(\"Silahkan Ketikan Menu Yang Akan Dipesan = \"))\n",
        "  menu2 = input(\"Masih Ingin Memesan? \")\n",
        "print(\"Menu Pesanan Anda = \")\n",
        "for n in m:\n",
        "  print(n)\n",
        "print(\"Total Harga = \", end = \"\")\n",
        "p = len(m)\n",
        "print(p*20000)\n"
      ],
      "metadata": {
        "colab": {
          "base_uri": "https://localhost:8080/",
          "height": 502
        },
        "id": "GUHZ5VKQuSz3",
        "outputId": "150806e8-3569-4d7e-eae6-74d0f489db10"
      },
      "execution_count": null,
      "outputs": [
        {
          "output_type": "stream",
          "name": "stdout",
          "text": [
            "Silahkan Pilih Menu Makanan\n",
            "1 . Nasi Goreng\n",
            "2 . Mie Goreng\n",
            "3 . Es Jeruk\n",
            "4 . Jus Mangga\n",
            "5 . Pisang Goreng\n"
          ]
        },
        {
          "output_type": "error",
          "ename": "KeyboardInterrupt",
          "evalue": "ignored",
          "traceback": [
            "\u001b[0;31m---------------------------------------------------------------------------\u001b[0m",
            "\u001b[0;31mKeyboardInterrupt\u001b[0m                         Traceback (most recent call last)",
            "\u001b[0;32m<ipython-input-67-f766be718d04>\u001b[0m in \u001b[0;36m<module>\u001b[0;34m\u001b[0m\n\u001b[1;32m     10\u001b[0m   \u001b[0mi\u001b[0m \u001b[0;34m+=\u001b[0m \u001b[0;36m1\u001b[0m\u001b[0;34m\u001b[0m\u001b[0;34m\u001b[0m\u001b[0m\n\u001b[1;32m     11\u001b[0m \u001b[0;32mwhile\u001b[0m\u001b[0;34m(\u001b[0m\u001b[0mmenu2\u001b[0m \u001b[0;34m==\u001b[0m \u001b[0;34m\"ya\"\u001b[0m\u001b[0;34m)\u001b[0m\u001b[0;34m:\u001b[0m\u001b[0;34m\u001b[0m\u001b[0;34m\u001b[0m\u001b[0m\n\u001b[0;32m---> 12\u001b[0;31m   \u001b[0mm\u001b[0m\u001b[0;34m.\u001b[0m\u001b[0mappend\u001b[0m\u001b[0;34m(\u001b[0m\u001b[0minput\u001b[0m\u001b[0;34m(\u001b[0m\u001b[0;34m\"Silahkan Ketikan Menu Yang Akan Dipesan = \"\u001b[0m\u001b[0;34m)\u001b[0m\u001b[0;34m)\u001b[0m\u001b[0;34m\u001b[0m\u001b[0;34m\u001b[0m\u001b[0m\n\u001b[0m\u001b[1;32m     13\u001b[0m   \u001b[0mmenu2\u001b[0m \u001b[0;34m=\u001b[0m \u001b[0minput\u001b[0m\u001b[0;34m(\u001b[0m\u001b[0;34m\"Masih Ingin Memesan? \"\u001b[0m\u001b[0;34m)\u001b[0m\u001b[0;34m\u001b[0m\u001b[0;34m\u001b[0m\u001b[0m\n\u001b[1;32m     14\u001b[0m \u001b[0mprint\u001b[0m\u001b[0;34m(\u001b[0m\u001b[0;34m\"Menu Pesanan Anda = \"\u001b[0m\u001b[0;34m)\u001b[0m\u001b[0;34m\u001b[0m\u001b[0;34m\u001b[0m\u001b[0m\n",
            "\u001b[0;32m/usr/local/lib/python3.7/dist-packages/ipykernel/kernelbase.py\u001b[0m in \u001b[0;36mraw_input\u001b[0;34m(self, prompt)\u001b[0m\n\u001b[1;32m    861\u001b[0m             \u001b[0mself\u001b[0m\u001b[0;34m.\u001b[0m\u001b[0m_parent_ident\u001b[0m\u001b[0;34m,\u001b[0m\u001b[0;34m\u001b[0m\u001b[0;34m\u001b[0m\u001b[0m\n\u001b[1;32m    862\u001b[0m             \u001b[0mself\u001b[0m\u001b[0;34m.\u001b[0m\u001b[0m_parent_header\u001b[0m\u001b[0;34m,\u001b[0m\u001b[0;34m\u001b[0m\u001b[0;34m\u001b[0m\u001b[0m\n\u001b[0;32m--> 863\u001b[0;31m             \u001b[0mpassword\u001b[0m\u001b[0;34m=\u001b[0m\u001b[0;32mFalse\u001b[0m\u001b[0;34m,\u001b[0m\u001b[0;34m\u001b[0m\u001b[0;34m\u001b[0m\u001b[0m\n\u001b[0m\u001b[1;32m    864\u001b[0m         )\n\u001b[1;32m    865\u001b[0m \u001b[0;34m\u001b[0m\u001b[0m\n",
            "\u001b[0;32m/usr/local/lib/python3.7/dist-packages/ipykernel/kernelbase.py\u001b[0m in \u001b[0;36m_input_request\u001b[0;34m(self, prompt, ident, parent, password)\u001b[0m\n\u001b[1;32m    902\u001b[0m             \u001b[0;32mexcept\u001b[0m \u001b[0mKeyboardInterrupt\u001b[0m\u001b[0;34m:\u001b[0m\u001b[0;34m\u001b[0m\u001b[0;34m\u001b[0m\u001b[0m\n\u001b[1;32m    903\u001b[0m                 \u001b[0;31m# re-raise KeyboardInterrupt, to truncate traceback\u001b[0m\u001b[0;34m\u001b[0m\u001b[0;34m\u001b[0m\u001b[0;34m\u001b[0m\u001b[0m\n\u001b[0;32m--> 904\u001b[0;31m                 \u001b[0;32mraise\u001b[0m \u001b[0mKeyboardInterrupt\u001b[0m\u001b[0;34m(\u001b[0m\u001b[0;34m\"Interrupted by user\"\u001b[0m\u001b[0;34m)\u001b[0m \u001b[0;32mfrom\u001b[0m \u001b[0;32mNone\u001b[0m\u001b[0;34m\u001b[0m\u001b[0;34m\u001b[0m\u001b[0m\n\u001b[0m\u001b[1;32m    905\u001b[0m             \u001b[0;32mexcept\u001b[0m \u001b[0mException\u001b[0m \u001b[0;32mas\u001b[0m \u001b[0me\u001b[0m\u001b[0;34m:\u001b[0m\u001b[0;34m\u001b[0m\u001b[0;34m\u001b[0m\u001b[0m\n\u001b[1;32m    906\u001b[0m                 \u001b[0mself\u001b[0m\u001b[0;34m.\u001b[0m\u001b[0mlog\u001b[0m\u001b[0;34m.\u001b[0m\u001b[0mwarning\u001b[0m\u001b[0;34m(\u001b[0m\u001b[0;34m\"Invalid Message:\"\u001b[0m\u001b[0;34m,\u001b[0m \u001b[0mexc_info\u001b[0m\u001b[0;34m=\u001b[0m\u001b[0;32mTrue\u001b[0m\u001b[0;34m)\u001b[0m\u001b[0;34m\u001b[0m\u001b[0;34m\u001b[0m\u001b[0m\n",
            "\u001b[0;31mKeyboardInterrupt\u001b[0m: Interrupted by user"
          ]
        }
      ]
    },
    {
      "cell_type": "code",
      "source": [
        "m"
      ],
      "metadata": {
        "id": "-o9_NQ0S1Nnr"
      },
      "execution_count": null,
      "outputs": []
    },
    {
      "cell_type": "code",
      "source": [
        "matrix1 = [[4, 0],[2, 1]]\n",
        "matrix2 = [[4, 1],[7, 5]]\n",
        "\n",
        "for x in range(0, len(matrix1)):\n",
        "    for y in range(0, len(matrix2[0])):\n",
        "      print(matrix1[x][y] + matrix2[x][y], end='')\n",
        "    print(' ')"
      ],
      "metadata": {
        "id": "bXQpzq27wSMu"
      },
      "execution_count": null,
      "outputs": []
    },
    {
      "cell_type": "code",
      "source": [
        "matrix1 = [[4, 0],[2, 1]]\n",
        "matrix2 = [[4, 1],[7, 5]]\n",
        "\n",
        "for x in range(0, len(matrix1)):\n",
        "    for y in range(0, len(matrix2[0])):\n",
        "      print(matrix1[x][y] - matrix2[x][y], end='')\n",
        "    print(' ')"
      ],
      "metadata": {
        "id": "u61s_Zxgq_Cq"
      },
      "execution_count": null,
      "outputs": []
    },
    {
      "cell_type": "code",
      "source": [
        "matrix1 = [[4, 0],[2, 1],[5, 2]]\n",
        "matrix2 = [[4, 1],[7, 5],[9, 4]]\n",
        "\n",
        "for x in range(0, len(matrix1)):\n",
        "    for y in range(0, len(matrix2[0])):\n",
        "      print(matrix1[x][y] - matrix2[x][y], end='')\n",
        "    print(' ')"
      ],
      "metadata": {
        "id": "17_k7i2prDF7"
      },
      "execution_count": null,
      "outputs": []
    },
    {
      "cell_type": "code",
      "source": [
        "matrix1 = [[2, 1],[2, 3]]\n",
        "matrix2 = [[1, 1],[4, 3]]\n",
        "matrix3 = []\n",
        "for x in range(0, len(matrix1)):\n",
        "  row = []\n",
        "  for y in range(0, len   (matrix1[0])):\n",
        "    total = 0\n",
        "    for z in range(0, len(matrix1)):\n",
        "      total = total+(matrix1[x][z] * matrix2[z][y])\n",
        "    row.append(total)\n",
        "  matrix3.append(row)\n",
        "\n",
        "for x in range (0,len(matrix3)):\n",
        "  for y in range(0, len(matrix3[0])):\n",
        "      print(matrix3[x][y], end=' ')\n",
        "  print(' ')"
      ],
      "metadata": {
        "id": "94BRk951r44q"
      },
      "execution_count": null,
      "outputs": []
    },
    {
      "cell_type": "markdown",
      "source": [],
      "metadata": {
        "id": "Kw1TJilv2SUi"
      }
    },
    {
      "cell_type": "code",
      "source": [
        "A = [[4, 5], [2, 6]]\n",
        "B = [[1, 2], [3, 4]]\n",
        "matrix3 = []\n",
        "for x in range(0, len(A)):\n",
        "  row = []\n",
        "  for y in range(0, len(A[0])):\n",
        "    total = 0\n",
        "    for z in range(0, len(A)):\n",
        "      total = total+(A[)\n",
        "    row.append(total)\n",
        "  matrix3.append(row)\n",
        "\n",
        "for x in range (0,len(matrix3)):\n",
        "  for y in range(0, len(matrix3[0])):\n",
        "      print(matrix3[x][y], end=' ')\n",
        "  print(' ')"
      ],
      "metadata": {
        "id": "JSZf1RTg0KGf"
      },
      "execution_count": null,
      "outputs": []
    },
    {
      "cell_type": "code",
      "source": [
        "A = [[4, 5], [2, 6]]\n",
        "B = [[1, 2], [3, 4]]\n",
        "detA = A[0][0]*A[1][1]-A[0][1]*A[1][0]\n",
        "print(detA)\n",
        "detB = B[0][0]*B[1][1]-B[0][1]*B[1][0]"
      ],
      "metadata": {
        "id": "xpcaJfCG2Se6"
      },
      "execution_count": null,
      "outputs": []
    },
    {
      "cell_type": "code",
      "source": [
        "AdjointA = [[A[1][1], -1*A[0][1]], [-1*A[1][0], A[0][0]]]\n",
        "print(AdjointA)"
      ],
      "metadata": {
        "id": "PNm4iwvR2nX7"
      },
      "execution_count": null,
      "outputs": []
    },
    {
      "cell_type": "code",
      "source": [
        "Ain=[]\n",
        "for x in range(0, len(AdjointA)):\n",
        "  row = []\n",
        "  for y in range(0, len(AdjointA[0])):\n",
        "    row.append(AdjointA[x][y]/detA)\n",
        "  Ain.append(row)\n",
        "print(Ain)"
      ],
      "metadata": {
        "id": "QKhxtlXD6FtG"
      },
      "execution_count": null,
      "outputs": []
    },
    {
      "cell_type": "code",
      "source": [
        "tuble = (123, \"Tuple\", \"A\", True, 0.3)\n",
        "print(tuble)\n",
        "num, stri, alpha, boole, flo = tuble\n",
        "print(num)\n",
        "print(stri)\n",
        "print(alpha)\n",
        "print(boole)\n",
        "print(flo)"
      ],
      "metadata": {
        "id": "fUVEL-xf7ecQ"
      },
      "execution_count": null,
      "outputs": []
    },
    {
      "cell_type": "code",
      "source": [
        "tuble = (123, \"Tuple\", \"A\", True, 0.3)\n",
        "tuble2 = (321, \"Elput\", \"Z\", False, 0.435735871875381853817582757238758178532856276782578265783265926581269315013053612573756012525613583583657862389562385723089523856238652385723507139523858932709572305)\n",
        "tuble3 = (tuble, tuble2)\n",
        "print(tuble3)"
      ],
      "metadata": {
        "id": "KA8s_-ZyAn-f"
      },
      "execution_count": null,
      "outputs": []
    },
    {
      "cell_type": "code",
      "source": [
        "biodata = {\n",
        "    \n",
        "}\n",
        "nama_ = input(\"Silahkan Masukan Nama Anda = \")\n",
        "age_ = input(\"Silahkan Masukan Umur Anda = \")\n",
        "alamat_ = input(\"Silahkan Masukan Alamat Anda = \")\n",
        "username_ = input(\"Silahkan Masukan Username Anda = \")\n",
        "password_ = input(\"Silahkan Masukan Password Anda = \")\n",
        "biodata.update({\"nama\" : nama_})\n",
        "biodata.update({\"umur\" : age_})\n",
        "biodata.update({\"alamat\" : alamat_})\n",
        "biodata.update({\"username\" : username_})\n",
        "biodata.update({\"password\" : password_})\n",
        "\n",
        "for key,item in biodata.items():\n",
        "  print(key,\"=\",item)"
      ],
      "metadata": {
        "id": "wyEekWuzDNxi"
      },
      "execution_count": null,
      "outputs": []
    },
    {
      "cell_type": "code",
      "source": [
        "\n",
        "buku = {\n",
        "\n",
        "}\n",
        "\n",
        "while(True):\n",
        "  print(buku)\n",
        "  user_ = input(\"Apakah Anda Mau Menambahkan Buku? Iya Atau Tidak? \")\n",
        "  if user_ == \"Iya\":\n",
        "    buku3_ = input(\"Silahkan Tulis Buku Yang Mau Ditambah \")\n",
        "    buku.update({buku3_:''})\n",
        "    print(buku)\n",
        "  else:\n",
        "    print(buku)\n",
        "    buku4_ = input(\"Buku Mana Yang Dihapus? \")\n",
        "    del buku[buku4_]"
      ],
      "metadata": {
        "id": "v5zZ9o-N0evf"
      },
      "execution_count": null,
      "outputs": []
    },
    {
      "cell_type": "code",
      "source": [
        "NAMA_ = {'1':'Ayam', '2' : 'Sapi', '3' : 'Mawar', '4' : 'Kambing', '5':'Lily'}\n",
        "NAMA2_ = NAMA_.copy()\n",
        "del NAMA_['3']\n",
        "del NAMA_['5']\n",
        "print(\"Sebelum Dihapus\")\n",
        "print(NAMA2_)\n",
        "print(\"Sesudah Dihapus\")\n",
        "print(NAMA_)"
      ],
      "metadata": {
        "id": "UZYP_40lA8l_"
      },
      "execution_count": null,
      "outputs": []
    },
    {
      "cell_type": "code",
      "source": [
        "NAMA_ = {'1':'Ayam', '2' : 'Sapi', '3' : 'Mawar', '4' : 'Kambing', '5':'Lily'}\n",
        "delete=[]\n",
        "for i in NAMA_.keys():\n",
        "  if int(i)%2 == 0:\n",
        "    delete.append(i)"
      ],
      "metadata": {
        "id": "WU-6WVQ53z6q"
      },
      "execution_count": null,
      "outputs": []
    },
    {
      "cell_type": "code",
      "source": [
        "for i in delete:\n",
        "  if int(i)%2 == 0:\n",
        "    del NAMA_[i]"
      ],
      "metadata": {
        "id": "kYwCibzknBLB"
      },
      "execution_count": null,
      "outputs": []
    },
    {
      "cell_type": "code",
      "source": [
        "print(NAMA_)"
      ],
      "metadata": {
        "id": "fpKhXqF-ncj8"
      },
      "execution_count": null,
      "outputs": []
    },
    {
      "cell_type": "code",
      "source": [
        "vokal = 0\n",
        "vocal = {\"a\":0,\"i\":0,\"u\":0,\"e\":0,\"o\":0}\n",
        "kalimat = input(\"Tolong menulis kalimat mu: \")\n",
        "kalimatbaru = \"\"\n",
        "for i in kalimat:\n",
        " if \"a\" == i:\n",
        "   kalimatbaru+=\"i\"\n",
        " else:\n",
        "  kalimatbaru+=i\n",
        "\n",
        " if i in vocal.keys():\n",
        "  vocal[i]+=1\n",
        "print(kalimatbaru)\n",
        "print(vocal)"
      ],
      "metadata": {
        "id": "j2RstPAKpqeW"
      },
      "execution_count": null,
      "outputs": []
    },
    {
      "cell_type": "code",
      "source": [
        "vocal"
      ],
      "metadata": {
        "id": "21-1NUANxWyk"
      },
      "execution_count": null,
      "outputs": []
    },
    {
      "cell_type": "code",
      "source": [
        "type(ord(\"a\"))"
      ],
      "metadata": {
        "id": "PiM_axvjyigu"
      },
      "execution_count": null,
      "outputs": []
    },
    {
      "cell_type": "code",
      "source": [
        "kalimat = \"Pijar Candra\"\n",
        "kalimat = list (kalimat)\n",
        "for i in range(len(kalimat)):\n",
        "  for j in range(len(kalimat)):\n",
        "    if ord(kalimat[i]) < ord(kalimat[j]):\n",
        "      temp = kalimat[i]\n",
        "      kalimat[i] = kalimat[j]\n",
        "      kalimat[j]=temp"
      ],
      "metadata": {
        "id": "1QZkkiR22176"
      },
      "execution_count": null,
      "outputs": []
    },
    {
      "cell_type": "code",
      "source": [
        "kalimat"
      ],
      "metadata": {
        "id": "yaD0njLEBYzC"
      },
      "execution_count": null,
      "outputs": []
    },
    {
      "cell_type": "code",
      "source": [
        "\n",
        "\n",
        "while(True):\n",
        "  menu()\n",
        "  inpot = input(\"Masih ingin Memilih? \")\n",
        "  if inpot != \"Yes\":\n",
        "    break\n",
        "\n",
        "def menu():\n",
        "  print(\"Silahkan Memilih Menu:\")\n",
        "  print(\"1. Penjumlahan\")\n",
        "  print(\"2. Pengurangan\")\n",
        "  print(\"3. Perkalian\")\n",
        "  print(\"4. Pembagian\")\n",
        "  pilihan = input(\"Masukan Pilihan: \")\n",
        "  angka1 = input(\"Masukan Angka 1: \")\n",
        "  angka2 = input(\"Masukan Angka 2 : \")\n",
        "  if pilihan == \"1\":\n",
        "   hasil = int(angka1) + int(angka2)\n",
        "   print(hasil)\n",
        "  if pilihan == \"2\":\n",
        "    hasil = int(angka1) - int(angka2)\n",
        "    print(hasil)\n",
        "  if pilihan == \"3\":\n",
        "    hasil = int(angka1) * int(angka2)\n",
        "    print(hasil)\n",
        "  if pilihan == \"4\":\n",
        "    hasil = int(angka1) / int(angka2)\n",
        "    print(hasil)\n",
        "\n",
        "\n"
      ],
      "metadata": {
        "id": "pSH8TpEgHsys"
      },
      "execution_count": null,
      "outputs": []
    },
    {
      "cell_type": "code",
      "source": [
        "def penjumlahan(a, b):\n",
        "  \n",
        "  return(a+b)\n",
        "def pengurangan(a, b):\n",
        "  return(a-b)\n",
        "def perkalian(a, b):\n",
        "  return(a*b)\n",
        "def bagi(a, b):\n",
        "    return(a/b)\n",
        "\n",
        "def menu():\n",
        "  print(\"Silahkan Memilih Menu:\")\n",
        "  print(\"1. Penjumlahan\")\n",
        "  print(\"2. Pengurangan\")\n",
        "  print(\"3. Perkalian\")\n",
        "  print(\"4. Pembagian\")\n",
        "  pilihan = input(\"Masukan Pilihan: \")\n",
        "  angka1 = int(input(\"Masukan Angka 1: \"))\n",
        "  angka2 = int(input(\"Masukan Angka 2 : \"))\n",
        "  if pilihan == \"1\":\n",
        "   hasil = penjumlahan(angka1, angka2)\n",
        "   print(hasil)\n",
        "  if pilihan == \"2\":\n",
        "    hasil = pengurangan(angka1, angka2)\n",
        "    print(hasil)\n",
        "  if pilihan == \"3\":\n",
        "    hasil = perkalian(angka1, angka2)\n",
        "    print(hasil)\n",
        "  if pilihan == \"4\":\n",
        "    hasil = bagi(angka1, angka2)\n",
        "    print(hasil)\n",
        "    \n",
        "\n",
        "while(True):\n",
        "  menu()\n",
        "  inpot = input(\"Masih ingin Memilih? \")\n",
        "  if inpot != \"Yes\":\n",
        "    break"
      ],
      "metadata": {
        "id": "ymN-wBRGtkex"
      },
      "execution_count": null,
      "outputs": []
    },
    {
      "cell_type": "code",
      "source": [
        "list_a = [0, 6, 14, 2]\n",
        "def maximum(lists):\n",
        "  terbesar = -999\n",
        "  for i in lists:\n",
        "    if terbesar < i:\n",
        "      terbesar = i\n",
        "  return terbesar\n",
        "def bubble_sortir(lists):\n",
        "  minimum = 999\n",
        "  for i in lists:\n",
        "    if minimum > i:\n",
        "      minimum = i\n",
        "  return minimum\n",
        "print(bubble_sortir(list_a))\n",
        "maximum(list_a)"
      ],
      "metadata": {
        "id": "qtv5FgaWwbZs"
      },
      "execution_count": null,
      "outputs": []
    },
    {
      "cell_type": "code",
      "source": [
        "fungsi = lambda a,b : a+b\n",
        "print(fungsi(20,10))"
      ],
      "metadata": {
        "id": "WIyWeLhTw9LG"
      },
      "execution_count": null,
      "outputs": []
    },
    {
      "cell_type": "code",
      "source": [
        "def e(*args):\n",
        "  for a in args:\n",
        "    total = sum(args)\n",
        "    n = len(args)\n",
        "    return total,n\n",
        "total,n = e(1,4,2,4,6,7,8,2,3,2)\n",
        "ratarata = (lambda a, b: a/b)(total,n)\n",
        "print(ratarata)\n",
        "  "
      ],
      "metadata": {
        "id": "4ijIYy4h1b1I"
      },
      "execution_count": null,
      "outputs": []
    },
    {
      "cell_type": "code",
      "source": [
        "class anjing():\n",
        "  def __init__(self, jenis, usia, warna, ukuran):\n",
        "    self.jenis = jenis\n",
        "    self.usia = usia\n",
        "    self.warna = warna\n",
        "    self.ukuran = ukuran\n",
        "  def eat(self):\n",
        "    print(self.jenis, \"makan\")\n",
        "  def sleep(self):\n",
        "    print(self.jenis,\"tidur\")\n",
        "  def sit(self):\n",
        "    print(self.jenis, \"duduk\")\n",
        "  def run(self):\n",
        "    print(self.jenis, \"lari\")\n"
      ],
      "metadata": {
        "id": "jioQ0oN93LN9"
      },
      "execution_count": null,
      "outputs": []
    },
    {
      "cell_type": "code",
      "source": [
        "dog1 = anjing(\"Neaopolitan Mastiff\", \"5 year\", \"Black\", \"Large\")\n",
        "dog1.eat()\n",
        "dog1.sleep()\n",
        "dog1.sit()\n",
        "dog1.run()"
      ],
      "metadata": {
        "id": "H37d_fLZ1gDJ"
      },
      "execution_count": null,
      "outputs": []
    },
    {
      "cell_type": "code",
      "source": [],
      "metadata": {
        "id": "slYv9IIU71W3"
      },
      "execution_count": null,
      "outputs": []
    },
    {
      "cell_type": "code",
      "source": [
        "dog2 = anjing(\"Malteas\", \"2 year\", \"White\", \"Small\")\n",
        "dog2.eat()\n",
        "dog2.sleep()\n",
        "dog2.sit()\n",
        "dog2.run()"
      ],
      "metadata": {
        "id": "K899sgiv13W1"
      },
      "execution_count": null,
      "outputs": []
    },
    {
      "cell_type": "code",
      "source": [
        "dog3 = anjing(\"Chow Chow\", \"3 year\", \"Brown\", \"Medium\")\n",
        "dog3.eat()\n",
        "dog3.sleep()\n",
        "dog3.sit()\n",
        "dog3.run()"
      ],
      "metadata": {
        "id": "wudmSxO62_Vf"
      },
      "execution_count": null,
      "outputs": []
    },
    {
      "cell_type": "code",
      "source": [
        "class person():\n",
        "  def __init__(self, name):\n",
        "    self.name = name\n",
        "  def walk(self):\n",
        "    print(self.name, \"walk\")\n",
        "class employee(person):\n",
        "  def __init__(self, name, EmployeeID):\n",
        "    person.__init__(self, name)\n",
        "  def work(self):\n",
        "    print(self.name, \"work\")"
      ],
      "metadata": {
        "id": "T2aCYT1X2_dC"
      },
      "execution_count": null,
      "outputs": []
    },
    {
      "cell_type": "code",
      "source": [
        "person1 = person(\"Alice\")\n",
        "person1.walk()"
      ],
      "metadata": {
        "id": "Zja4fTfk9w5j"
      },
      "execution_count": null,
      "outputs": []
    },
    {
      "cell_type": "code",
      "source": [
        "person2 = employee(\"Bob\", \"0001\")\n",
        "person2.work()"
      ],
      "metadata": {
        "id": "_EN-wg4m9776"
      },
      "execution_count": null,
      "outputs": []
    },
    {
      "cell_type": "code",
      "source": [
        "class person():\n",
        "  def __init__(self, name):\n",
        "    self.name = name\n",
        "class employee(person):\n",
        "  def __init__(self,name, employeeID):\n",
        "    self.employeeID = 9481\n",
        "  def giveid(self):\n",
        "    print(employeeID)\n",
        "class customer(person):\n",
        "  def __init__(self,name):\n",
        "    pass\n",
        "class manager(employee):\n",
        "  def __init__(self,name,employeeID, badge):\n",
        "    self.badge = badge\n",
        "  def badgegive(self):\n",
        "    print(badge)\n",
        "class developer(employee):\n",
        "  def __init__(self,name,employeeID,developerpass):\n",
        "    employee.__init__(self,name,employeeID)\n",
        "    self.developerpass = 1029\n",
        "  def developgive(self):\n",
        "    print(self.developerpass)"
      ],
      "metadata": {
        "id": "niLYb6Dt-jwa"
      },
      "execution_count": null,
      "outputs": []
    },
    {
      "cell_type": "code",
      "source": [
        "person1 = developer(\"Bobby\", \"0029\", 0391)\n",
        "person1.developgive()"
      ],
      "metadata": {
        "id": "5-HIu-TGBMTO"
      },
      "execution_count": null,
      "outputs": []
    },
    {
      "cell_type": "code",
      "source": [
        "import datetime\n",
        "print(datetime.datetime.now())"
      ],
      "metadata": {
        "id": "vmPu4N0WCtfN"
      },
      "execution_count": null,
      "outputs": []
    },
    {
      "cell_type": "code",
      "source": [
        "from datetime import datetime, timezone\n",
        "\n",
        "date = datetime.now()\n",
        "print(\"Format 1: \", date.strftime(\"%d/%m/%y\"))\n",
        "print(\"Format 2: \", date.strftime(\"%c\"))\n",
        "print(\"Format 1: \", date.strftime(\"%A %d %B %Y\"))"
      ],
      "metadata": {
        "id": "eo4fM2ZvSQTo"
      },
      "execution_count": null,
      "outputs": []
    },
    {
      "cell_type": "code",
      "source": [
        "date2 = date.strftime(\"%A, %d %B %Y\")\n",
        "date3 = date.strptime(date2, \"%A, %d %B %Y\")\n",
        "print(date2)\n",
        "print(date3)"
      ],
      "metadata": {
        "id": "X1w89gjJTxnD"
      },
      "execution_count": null,
      "outputs": []
    },
    {
      "cell_type": "code",
      "source": [
        "from datetime import datetime, timezone\n",
        "\n",
        "date = datetime.now()\n",
        "\n",
        "print(date.strftime(\"%a, %d-%m-%Y\"))\n",
        "print(date.strftime(\"%T\"))\n",
        "print(date.strftime(\"%a, %d %B %Y\"))\n",
        "print(date.strftime(\"%A, %d %B %Y\"))"
      ],
      "metadata": {
        "id": "N_1UX-L8UoH1"
      },
      "execution_count": null,
      "outputs": []
    },
    {
      "cell_type": "code",
      "source": [
        "import pytz\n",
        "from datetime import datetime\n",
        "sng = pytz.timezone('Asia/Singapore')\n",
        "ptrs = pytz.timezone('America/Phoenix')\n",
        "irus = pytz.timezone('Antarctica/Troll')\n",
        "ares = pytz.timezone('Asia/Bahrain')\n",
        "isur = pytz.timezone('Australia/Adelaide')\n",
        "\n",
        "\n",
        "\n",
        "\n",
        "print(\"Current Time in Bali is \", datetime.now(sng).strftime(\"%H:%M:%S\"))\n",
        "print(\"Current Time in Phoenix is \", datetime.now(ptrs).strftime(\"%H:%M:%S\"))\n",
        "print(\"Current Time in Troll is \", datetime.now(irus).strftime(\"%H:%M:%S\"))\n",
        "print(\"Current Time in Bahrain is \", datetime.now(ares).strftime(\"%H:%M:%S\"))\n",
        "print(\"Current Time in Adelaide is \", datetime.now(isur).strftime(\"%H:%M:%S\"))\n"
      ],
      "metadata": {
        "id": "G_TrBzkuXrqb"
      },
      "execution_count": null,
      "outputs": []
    },
    {
      "cell_type": "code",
      "source": [
        "import pytz\n",
        "for x in pytz.all_timezones:\n",
        "  print(x)"
      ],
      "metadata": {
        "id": "En8f-bMT5Iz2"
      },
      "execution_count": null,
      "outputs": []
    },
    {
      "cell_type": "code",
      "source": [
        "import time\n",
        "from datetime import datetime\n",
        "import pytz\n",
        "print(time.time())\n",
        "print(datetime.fromtimestamp(time.time()))"
      ],
      "metadata": {
        "id": "1xPX_GT35kuP"
      },
      "execution_count": null,
      "outputs": []
    },
    {
      "cell_type": "code",
      "source": [
        "import pytz \n",
        "from datetime import datetime\n",
        "rusai = pytz.timezone('America/Los_Angeles')\n",
        "print(\"Current Time in Los Angeles is \", datetime.now(rusai).strftime(\"%H:%M:%S\"))"
      ],
      "metadata": {
        "id": "b9rgh7ni7do_"
      },
      "execution_count": null,
      "outputs": []
    },
    {
      "cell_type": "code",
      "source": [
        "\n",
        "from datetime import datetime, timedelta\n",
        "\n",
        "dt = b(2022, 1, 3, 12, 43, 0)\n",
        "#Los angeles\n",
        "result = dt + timedelta(hours= 14) #Jakarta bedanya 14 jam + \n",
        "print(result.time())"
      ],
      "metadata": {
        "id": "H11tM9Xc-PB0"
      },
      "execution_count": null,
      "outputs": []
    },
    {
      "cell_type": "code",
      "source": [
        "import time\n",
        "\n",
        "menit = int(input(\"Berapa Menit? \"))\n",
        "detik = int(input(\"Berapa Detik? \"))\n",
        "mulai = input(\"Mulai? Y or N \")\n",
        "monit = menit * 60\n",
        "detok = detik + monit\n",
        "if mulai == \"Y\":\n",
        "  time.sleep(detok)\n",
        "  print(\"Waktu Sudah Selesai: \", date.time(0,menit,detik).strftime(\"%M:%S\"))"
      ],
      "metadata": {
        "id": "m--nCHCI_N5h"
      },
      "execution_count": null,
      "outputs": []
    },
    {
      "cell_type": "code",
      "source": [],
      "metadata": {
        "id": "gYCj3HvaEwFc"
      },
      "execution_count": null,
      "outputs": []
    },
    {
      "cell_type": "code",
      "source": [
        "import os"
      ],
      "metadata": {
        "id": "R3FbrBS4HYoM"
      },
      "execution_count": null,
      "outputs": []
    },
    {
      "cell_type": "code",
      "source": [
        "os.mkdir(\"filter\")"
      ],
      "metadata": {
        "id": "8h7eIS8mbNHb"
      },
      "execution_count": null,
      "outputs": []
    },
    {
      "cell_type": "code",
      "source": [
        "import csv"
      ],
      "metadata": {
        "id": "aL3DAD3kbUvz"
      },
      "execution_count": null,
      "outputs": []
    },
    {
      "cell_type": "code",
      "source": [
        "lki2 = open(\"filter/laki2.csv\", \"w\")\n",
        "perempuan = open(\"filter/perempuan.csv\", \"w\")"
      ],
      "metadata": {
        "id": "ifb515fnb1zD"
      },
      "execution_count": null,
      "outputs": []
    },
    {
      "cell_type": "code",
      "source": [
        "with open('datsetFinal.csv', newline= '') as csvfile:\n",
        "  header = csvfile.readlines()\n",
        "  lki2.write(header[0])\n",
        "  perempuan.write(header[0])\n",
        "  csvfile2 = open('datsetFinal.csv', newline = '')\n",
        "  spamreadeer = csv.DictReader(csvfile2,delimiter=\",\")\n",
        "  indexfile = 1\n",
        "  for row in spamreadeer:\n",
        "    inputfile = header[indexfile]\n",
        "    if row['Kelamin']=='Laki-laki':\n",
        "      lki2.write(inputfile)\n",
        "    else:\n",
        "      perempuan.write(inputfile)"
      ],
      "metadata": {
        "id": "XNHbqZkmcUpg"
      },
      "execution_count": null,
      "outputs": []
    },
    {
      "cell_type": "code",
      "source": [
        "nama = input(\"Siapa nama kamu?\")\n",
        "umur = input(\"Berapa umur kamu?\")\n",
        "alamat = input(\"Dimana kamu tinggal?\")\n",
        "\n",
        "namaumur = open(\"namaumur.txt\", \"w\")\n",
        "namaumur.write(nama+\"|\"+umur+\"|\"+alamat+\"|\")\n",
        "namaumur.close()"
      ],
      "metadata": {
        "id": "yKyLL-pCdub8"
      },
      "execution_count": null,
      "outputs": []
    },
    {
      "cell_type": "code",
      "source": [
        "with open('no.txt', mode= 'r')as file:\n",
        "  data = file.read()\n",
        "  date = \n",
        "if(nom% 2 == 1):\n",
        "  print(\"Odd\")\n",
        "else:\n",
        "  print(\"Even\")"
      ],
      "metadata": {
        "id": "X2IJgtxzjAdQ"
      },
      "execution_count": null,
      "outputs": []
    },
    {
      "cell_type": "code",
      "source": [
        "odd = 0\n",
        "even = 0\n",
        "# Using readlines()\n",
        "file1 = open('no.txt', 'r')\n",
        "Lines = file1.readlines()\n",
        "  \n",
        "count = 0\n",
        "# Strips the newline character\n",
        "for line in Lines:\n",
        "    if(int(line)% 2 == 1):\n",
        "      odd+=1\n",
        "    else:\n",
        "      even+=1\n",
        "print(\"Ada\", odd, \"odd\")\n",
        "print(\"Ada\", even, \"even\")"
      ],
      "metadata": {
        "id": "qlVc98vAnTRw"
      },
      "execution_count": null,
      "outputs": []
    },
    {
      "cell_type": "code",
      "source": [
        "search_text = \"Gunung\"\n",
        "replace_text = \"Pegunungan\"\n",
        "count = 0\n",
        "\n",
        "search_text1 = \"gunung\"\n",
        "replace_text1 = \"pegunungan\"\n",
        "with open('deskripsi.txt', mode='r') as file:\n",
        "  data = file.read()\n",
        "  data = data.replace(search_text1, replace_text1)\n",
        "  data = data.replace(search_text, replace_text)\n",
        "with open('deskripsi.txt',mode = 'w') as file:\n",
        "  file.write(data)\n",
        "with open('deskripsi.txt', 'r')as file:\n",
        "  for line in file:\n",
        "    for word in line.split():\n",
        "      if word == \"pegunungan\" or word == \"pepegununganan\" or word == \"Pegunungan\" or word == \"pegunungan.\":\n",
        "        count+=1\n",
        "print(count)"
      ],
      "metadata": {
        "id": "LnQVYQJunw68"
      },
      "execution_count": null,
      "outputs": []
    },
    {
      "cell_type": "code",
      "source": [
        "with open('deskripsi.txt', 'r')as file:\n",
        "  for line in file:\n",
        "    for word in line.split():\n",
        "      print(word)\n",
        "      if word == \"pegunungan\" or word == \"pepegununganan\" or word == \"Pegunungan\" or word == \"pegunungan.\":\n",
        "        count+=1"
      ],
      "metadata": {
        "id": "RHXBzdLxpqdk"
      },
      "execution_count": null,
      "outputs": []
    },
    {
      "cell_type": "code",
      "source": [
        "count"
      ],
      "metadata": {
        "id": "LbLUnz4ltHlH"
      },
      "execution_count": null,
      "outputs": []
    },
    {
      "cell_type": "code",
      "source": [
        "positive = []\n",
        "negative = []\n",
        "angka = []\n",
        "\n",
        "print(\"Masukan 10 Buah Angka\")\n",
        "angka1 = float(input(\"Masukan Angka ke-1: \"))\n",
        "angka2 = float(input(\"Masukan Angka ke-2: \"))\n",
        "angka3 = float(input(\"Masukan Angka ke-3: \"))\n",
        "angka4 = float(input(\"Masukan Angka ke-4: \"))\n",
        "angka5 = float(input(\"Masukan Angka ke-5: \"))\n",
        "angka6 = float(input(\"Masukan Angka ke-6: \"))\n",
        "angka7 = float(input(\"Masukan Angka ke-7: \"))\n",
        "angka8 = float(input(\"Masukan Angka ke-8: \"))\n",
        "angka9 = float(input(\"Masukan Angka ke-9: \"))\n",
        "angka10 = float(input(\"Masukan Angka ke-10: \"))\n",
        "\n",
        "if num > 0:\n",
        "  positive.append(angka1)\n",
        "  \n",
        "\n"
      ],
      "metadata": {
        "id": "MdtDxdVBv_YT"
      },
      "execution_count": null,
      "outputs": []
    },
    {
      "cell_type": "code",
      "source": [
        "positive = []\n",
        "negative = []\n",
        "angka = [0, 0, 0, 0, 0, 0, 0, 0, 0, 0]\n",
        "\n",
        "print(\"Masukan 10 Buah Angka\")\n",
        "for i in range (10):\n",
        "  angka[i] = int(input('Masukan Angka: '))\n",
        "\n",
        "for x in angka:\n",
        "  if x > 0:\n",
        "    positive.append(x)\n",
        "  else:\n",
        "    negative.append(x)\n",
        "print(\"Bilangan positive: \", positive)\n",
        "print(\"Bilangan negative: \", negative)"
      ],
      "metadata": {
        "colab": {
          "base_uri": "https://localhost:8080/"
        },
        "id": "qbSN4SOAEYZO",
        "outputId": "1e0954c4-114b-48ff-e6be-41fdac523cd7"
      },
      "execution_count": null,
      "outputs": [
        {
          "output_type": "stream",
          "name": "stdout",
          "text": [
            "Masukan 10 Buah Angka\n",
            "Masukan Angka: 1\n",
            "Masukan Angka: 5\n",
            "Masukan Angka: -3\n",
            "Masukan Angka: -5\n",
            "Masukan Angka: 3\n",
            "Masukan Angka: -4\n",
            "Masukan Angka: 10\n",
            "Masukan Angka: -7\n",
            "Masukan Angka: 4\n",
            "Masukan Angka: -9\n",
            "Bilangan positive:  [1, 5, 3, 10, 4]\n",
            "Bilangan negative:  [-3, -5, -4, -7, -9]\n"
          ]
        }
      ]
    },
    {
      "cell_type": "code",
      "source": [
        "3positive"
      ],
      "metadata": {
        "colab": {
          "base_uri": "https://localhost:8080/"
        },
        "id": "bBXD1eP8FdGd",
        "outputId": "ee53545f-8636-4562-d941-b196c421fab7"
      },
      "execution_count": null,
      "outputs": [
        {
          "output_type": "execute_result",
          "data": {
            "text/plain": [
              "[2, 100, 4, 1, 3]"
            ]
          },
          "metadata": {},
          "execution_count": 71
        }
      ]
    },
    {
      "cell_type": "code",
      "source": [
        "nama = input(\"Masukan Nama: \")\n",
        "NIM = str(input(\"Masukan NIM: \"))\n",
        "Usia = input(\"Masukan Usia: \")\n",
        "Jurusan = input(\"Masukan Jurusan: \")\n",
        "Alamat = input(\"Masukan Alamat: \")\n",
        "tahun_masuk = int(str(NIM)[0:2])\n",
        "\n",
        "class Mahasiswa:\n",
        "  def __init__(self, name = \"default_name\", age = 0, NIM = 0, Jurusan = \"default_jurusan\", Alamat = \"default_alamat\", Tahun_Masuk = 0):\n",
        "    self.name = name\n",
        "    self.age = age\n",
        "    self.NIM = NIM\n",
        "    self.Jurusan = Jurusan\n",
        "    self.Alamat = Alamat\n",
        "    self.Tahun_Masuk = Tahun_Masuk\n",
        "\n",
        "\n",
        "  def get_data(self):\n",
        "      string = \"Berikut Data Siswa:\" + \"\\n\"\n",
        "      string += \"Nama: \" + self.name + \"\\n\"\n",
        "      string += \"Usia: \" + self.age + \"\\n\"\n",
        "      string += \"Nim: \" + self.NIM + \"\\n\"\n",
        "      string += \"Jurusan: \" + self.Jurusan + \"\\n\"\n",
        "      string += \"Alamat: \" + self.Alamat + \"\\n\"\n",
        "      string += \"Tahun Masuk: 20\" + str(self.Tahun_Masuk) + \"\\n\"\n",
        "      string += \"Terimakasih Sudah Menggunakan Sistem ini!\"\n",
        "      return string\n",
        "  def set_data(self, name, age, NIM, Jurusan, Alamat, Tahun_Masuk):\n",
        "     self.name = name\n",
        "     self.age = age\n",
        "     self.NIM = NIM\n",
        "     self.Jurusan = Jurusan\n",
        "     self.Alamat = Alamat\n",
        "     self.Tahun_Masuk = Tahun_Masuk\n",
        "\n",
        "mhs1 = Mahasiswa()\n",
        "mhs1.set_data(nama, Usia, NIM, Jurusan, Alamat, tahun_masuk)\n",
        "print(mhs1.get_data())\n"
      ],
      "metadata": {
        "colab": {
          "base_uri": "https://localhost:8080/"
        },
        "id": "ME1jElzXGUXx",
        "outputId": "4fed2ad8-8144-4d5d-8eeb-1ed018ea91cf"
      },
      "execution_count": null,
      "outputs": [
        {
          "output_type": "stream",
          "name": "stdout",
          "text": [
            "Masukan Nama: MMathew\n",
            "Masukan NIM: 13\n",
            "Masukan Usia: 13\n",
            "Masukan Jurusan: Jurus\n",
            "Masukan Alamat: Bali\n",
            "Berikut Data Siswa:\n",
            "Nama: MMathew\n",
            "Usia: 13\n",
            "Nim: 13\n",
            "Jurusan: Jurus\n",
            "Alamat: Bali\n",
            "Tahun Masuk: 2013\n",
            "Terimakasih Sudah Menggunakan Sistem ini!\n"
          ]
        }
      ]
    },
    {
      "cell_type": "code",
      "source": [
        "class Pegawai:\n",
        "  def __init__(self, name = \"default_nama\", status = \"default_status\", tahun = 0, gaji = 0):\n",
        "    self.name = name\n",
        "    self.status = status\n",
        "    self.tahun = tahun\n",
        "    self.gaji = gaji\n",
        "  def set_data(self, nama, status , tahun, gaji):\n",
        "    self.name = name\n",
        "    self.status = status\n",
        "    self.tahun = tahun\n",
        "    self.gaji = gaji\n",
        "\n",
        "data_pegawai = []\n",
        "\n",
        "def menu_tampilan():\n",
        "  print(\"\\n\\nSelamat Datang di Sistem Informasi Pegawai\")\n",
        "  print(\"Silahkan Memilih Menu: \")\n",
        "  print(\"1. Tambah Pegawai\" + \"\\n\" + \"2. Edit Pegawai\")\n",
        "  print(\"3. Hapus Pegawai\")\n",
        "  print(\"4. Tampilkan Pegawai\")\n",
        "  menu = input(\"Menu apa yang anda pilih?\")\n",
        "\n",
        "  if menu == str(1):\n",
        "    name = input(\"Nama?\")\n",
        "    status = input(\"Status?\")\n",
        "    tahun = input(\"Tahun?\")\n",
        "    gaji = input(\"Gaji?\")\n",
        "\n",
        "    pegawai = Pegawai()\n",
        "    pegawai.set_data(name, status, tahun, gaji)\n",
        "    data_pegawai.append(pegawai)\n",
        "    menu_tampilan()\n",
        "  elif menu == str(2):\n",
        "    name = input(\"Nama?\")\n",
        "    status = input(\"Status?\")\n",
        "    tahun = input(\"Tahun?\")\n",
        "    gaji = input(\"Gaji?\")\n",
        "    data_pegawai[len(data_pegawai)-1].\n",
        "\n",
        "menu_tampilan()"
      ],
      "metadata": {
        "id": "_G6RZ2-QK4Dx",
        "colab": {
          "base_uri": "https://localhost:8080/",
          "height": 797
        },
        "outputId": "df8796ea-72e6-4043-832d-cf96754ca85c"
      },
      "execution_count": null,
      "outputs": [
        {
          "name": "stdout",
          "output_type": "stream",
          "text": [
            "\n",
            "\n",
            "Selamat Datang di Sistem Informasi Pegawai\n",
            "Silahkan Memilih Menu: \n",
            "1. Tambah Pegawai\n",
            "2. Edit Pegawai\n",
            "3. Hapus Pegawai\n",
            "4. Tampilkan Pegawai\n",
            "Menu apa yang anda pilih?1\n",
            "Nama?2\n",
            "Status?3\n",
            "Tahun?4\n",
            "Gaji?5\n",
            "\n",
            "\n",
            "Selamat Datang di Sistem Informasi Pegawai\n",
            "Silahkan Memilih Menu: \n",
            "1. Tambah Pegawai\n",
            "2. Edit Pegawai\n",
            "3. Hapus Pegawai\n",
            "4. Tampilkan Pegawai\n",
            "Menu apa yang anda pilih?2\n",
            "total: 1\n",
            "Nama?23\n",
            "Status?4\n",
            "Tahun?5\n"
          ]
        },
        {
          "output_type": "error",
          "ename": "KeyboardInterrupt",
          "evalue": "ignored",
          "traceback": [
            "\u001b[0;31m---------------------------------------------------------------------------\u001b[0m",
            "\u001b[0;31mKeyboardInterrupt\u001b[0m                         Traceback (most recent call last)",
            "\u001b[0;32m<ipython-input-46-07551afee6d2>\u001b[0m in \u001b[0;36m<module>\u001b[0;34m\u001b[0m\n\u001b[1;32m     38\u001b[0m     \u001b[0mgaji\u001b[0m \u001b[0;34m=\u001b[0m \u001b[0minput\u001b[0m\u001b[0;34m(\u001b[0m\u001b[0;34m\"Gaji?\"\u001b[0m\u001b[0;34m)\u001b[0m\u001b[0;34m\u001b[0m\u001b[0;34m\u001b[0m\u001b[0m\n\u001b[1;32m     39\u001b[0m \u001b[0;34m\u001b[0m\u001b[0m\n\u001b[0;32m---> 40\u001b[0;31m \u001b[0mmenu_tampilan\u001b[0m\u001b[0;34m(\u001b[0m\u001b[0;34m)\u001b[0m\u001b[0;34m\u001b[0m\u001b[0;34m\u001b[0m\u001b[0m\n\u001b[0m",
            "\u001b[0;32m<ipython-input-46-07551afee6d2>\u001b[0m in \u001b[0;36mmenu_tampilan\u001b[0;34m()\u001b[0m\n\u001b[1;32m     30\u001b[0m     \u001b[0mpegawai\u001b[0m\u001b[0;34m.\u001b[0m\u001b[0mset_data\u001b[0m\u001b[0;34m(\u001b[0m\u001b[0mname\u001b[0m\u001b[0;34m,\u001b[0m \u001b[0mstatus\u001b[0m\u001b[0;34m,\u001b[0m \u001b[0mtahun\u001b[0m\u001b[0;34m,\u001b[0m \u001b[0mgaji\u001b[0m\u001b[0;34m)\u001b[0m\u001b[0;34m\u001b[0m\u001b[0;34m\u001b[0m\u001b[0m\n\u001b[1;32m     31\u001b[0m     \u001b[0mdata_pegawai\u001b[0m\u001b[0;34m.\u001b[0m\u001b[0mappend\u001b[0m\u001b[0;34m(\u001b[0m\u001b[0mpegawai\u001b[0m\u001b[0;34m)\u001b[0m\u001b[0;34m\u001b[0m\u001b[0;34m\u001b[0m\u001b[0m\n\u001b[0;32m---> 32\u001b[0;31m     \u001b[0mmenu_tampilan\u001b[0m\u001b[0;34m(\u001b[0m\u001b[0;34m)\u001b[0m\u001b[0;34m\u001b[0m\u001b[0;34m\u001b[0m\u001b[0m\n\u001b[0m\u001b[1;32m     33\u001b[0m   \u001b[0;32melif\u001b[0m \u001b[0mmenu\u001b[0m \u001b[0;34m==\u001b[0m \u001b[0mstr\u001b[0m\u001b[0;34m(\u001b[0m\u001b[0;36m2\u001b[0m\u001b[0;34m)\u001b[0m\u001b[0;34m:\u001b[0m\u001b[0;34m\u001b[0m\u001b[0;34m\u001b[0m\u001b[0m\n\u001b[1;32m     34\u001b[0m     \u001b[0mprint\u001b[0m\u001b[0;34m(\u001b[0m\u001b[0;34m'total: '\u001b[0m \u001b[0;34m+\u001b[0m \u001b[0mstr\u001b[0m\u001b[0;34m(\u001b[0m\u001b[0mlen\u001b[0m\u001b[0;34m(\u001b[0m\u001b[0mdata_pegawai\u001b[0m\u001b[0;34m)\u001b[0m\u001b[0;34m)\u001b[0m\u001b[0;34m)\u001b[0m\u001b[0;34m\u001b[0m\u001b[0;34m\u001b[0m\u001b[0m\n",
            "\u001b[0;32m<ipython-input-46-07551afee6d2>\u001b[0m in \u001b[0;36mmenu_tampilan\u001b[0;34m()\u001b[0m\n\u001b[1;32m     36\u001b[0m     \u001b[0mstatus\u001b[0m \u001b[0;34m=\u001b[0m \u001b[0minput\u001b[0m\u001b[0;34m(\u001b[0m\u001b[0;34m\"Status?\"\u001b[0m\u001b[0;34m)\u001b[0m\u001b[0;34m\u001b[0m\u001b[0;34m\u001b[0m\u001b[0m\n\u001b[1;32m     37\u001b[0m     \u001b[0mtahun\u001b[0m \u001b[0;34m=\u001b[0m \u001b[0minput\u001b[0m\u001b[0;34m(\u001b[0m\u001b[0;34m\"Tahun?\"\u001b[0m\u001b[0;34m)\u001b[0m\u001b[0;34m\u001b[0m\u001b[0;34m\u001b[0m\u001b[0m\n\u001b[0;32m---> 38\u001b[0;31m     \u001b[0mgaji\u001b[0m \u001b[0;34m=\u001b[0m \u001b[0minput\u001b[0m\u001b[0;34m(\u001b[0m\u001b[0;34m\"Gaji?\"\u001b[0m\u001b[0;34m)\u001b[0m\u001b[0;34m\u001b[0m\u001b[0;34m\u001b[0m\u001b[0m\n\u001b[0m\u001b[1;32m     39\u001b[0m \u001b[0;34m\u001b[0m\u001b[0m\n\u001b[1;32m     40\u001b[0m \u001b[0mmenu_tampilan\u001b[0m\u001b[0;34m(\u001b[0m\u001b[0;34m)\u001b[0m\u001b[0;34m\u001b[0m\u001b[0;34m\u001b[0m\u001b[0m\n",
            "\u001b[0;32m/usr/local/lib/python3.7/dist-packages/ipykernel/kernelbase.py\u001b[0m in \u001b[0;36mraw_input\u001b[0;34m(self, prompt)\u001b[0m\n\u001b[1;32m    861\u001b[0m             \u001b[0mself\u001b[0m\u001b[0;34m.\u001b[0m\u001b[0m_parent_ident\u001b[0m\u001b[0;34m,\u001b[0m\u001b[0;34m\u001b[0m\u001b[0;34m\u001b[0m\u001b[0m\n\u001b[1;32m    862\u001b[0m             \u001b[0mself\u001b[0m\u001b[0;34m.\u001b[0m\u001b[0m_parent_header\u001b[0m\u001b[0;34m,\u001b[0m\u001b[0;34m\u001b[0m\u001b[0;34m\u001b[0m\u001b[0m\n\u001b[0;32m--> 863\u001b[0;31m             \u001b[0mpassword\u001b[0m\u001b[0;34m=\u001b[0m\u001b[0;32mFalse\u001b[0m\u001b[0;34m,\u001b[0m\u001b[0;34m\u001b[0m\u001b[0;34m\u001b[0m\u001b[0m\n\u001b[0m\u001b[1;32m    864\u001b[0m         )\n\u001b[1;32m    865\u001b[0m \u001b[0;34m\u001b[0m\u001b[0m\n",
            "\u001b[0;32m/usr/local/lib/python3.7/dist-packages/ipykernel/kernelbase.py\u001b[0m in \u001b[0;36m_input_request\u001b[0;34m(self, prompt, ident, parent, password)\u001b[0m\n\u001b[1;32m    902\u001b[0m             \u001b[0;32mexcept\u001b[0m \u001b[0mKeyboardInterrupt\u001b[0m\u001b[0;34m:\u001b[0m\u001b[0;34m\u001b[0m\u001b[0;34m\u001b[0m\u001b[0m\n\u001b[1;32m    903\u001b[0m                 \u001b[0;31m# re-raise KeyboardInterrupt, to truncate traceback\u001b[0m\u001b[0;34m\u001b[0m\u001b[0;34m\u001b[0m\u001b[0;34m\u001b[0m\u001b[0m\n\u001b[0;32m--> 904\u001b[0;31m                 \u001b[0;32mraise\u001b[0m \u001b[0mKeyboardInterrupt\u001b[0m\u001b[0;34m(\u001b[0m\u001b[0;34m\"Interrupted by user\"\u001b[0m\u001b[0;34m)\u001b[0m \u001b[0;32mfrom\u001b[0m \u001b[0;32mNone\u001b[0m\u001b[0;34m\u001b[0m\u001b[0;34m\u001b[0m\u001b[0m\n\u001b[0m\u001b[1;32m    905\u001b[0m             \u001b[0;32mexcept\u001b[0m \u001b[0mException\u001b[0m \u001b[0;32mas\u001b[0m \u001b[0me\u001b[0m\u001b[0;34m:\u001b[0m\u001b[0;34m\u001b[0m\u001b[0;34m\u001b[0m\u001b[0m\n\u001b[1;32m    906\u001b[0m                 \u001b[0mself\u001b[0m\u001b[0;34m.\u001b[0m\u001b[0mlog\u001b[0m\u001b[0;34m.\u001b[0m\u001b[0mwarning\u001b[0m\u001b[0;34m(\u001b[0m\u001b[0;34m\"Invalid Message:\"\u001b[0m\u001b[0;34m,\u001b[0m \u001b[0mexc_info\u001b[0m\u001b[0;34m=\u001b[0m\u001b[0;32mTrue\u001b[0m\u001b[0;34m)\u001b[0m\u001b[0;34m\u001b[0m\u001b[0;34m\u001b[0m\u001b[0m\n",
            "\u001b[0;31mKeyboardInterrupt\u001b[0m: Interrupted by user"
          ]
        }
      ]
    },
    {
      "cell_type": "code",
      "source": [
        "class Pegawai:\n",
        "  def __init__(self, name = \"default_nama\", status = \"default_status\", tahun = 0, gaji = 0):\n",
        "    self.name = name\n",
        "    self.status = status\n",
        "    self.tahun = tahun\n",
        "    self.gaji = gaji\n",
        "  def set_data(self, nama, status , tahun, gaji):\n",
        "    self.name = name\n",
        "    self.status = status\n",
        "    self.tahun = tahun\n",
        "    self.gaji = gaji\n",
        "\n",
        "data_pegawai = []\n",
        "\n",
        "def menu_tampilan():\n",
        "  print(\"\\n\\nSelamat Datang di Sistem Informasi Pegawai\")\n",
        "  print(\"Silahkan Memilih Menu: \")\n",
        "  print(\"1. Tambah Pegawai\" + \"\\n\" + \"2. Edit Pegawai\")\n",
        "  print(\"3. Hapus Pegawai\")\n",
        "  print(\"4. Tampilkan Pegawai\")\n",
        "  menu = input(\"Menu apa yang anda pilih?\")\n",
        "\n",
        "  if menu == str(1):\n",
        "    name = input(\"Nama?\")\n",
        "    status = input(\"Status?\")\n",
        "    tahun = input(\"Tahun?\")\n",
        "    gaji = input(\"Gaji?\")\n",
        "\n",
        "    pegawai = Pegawai()\n",
        "    pegawai.set_data(name, status, tahun, gaji)\n",
        "    data_pegawai.append(pegawai)\n",
        "    menu_tampilan()\n",
        "  elif menu == str(2):\n",
        "    name = input(\"Nama?\")\n",
        "    status = input(\"Status?\")\n",
        "    tahun = input(\"Tahun?\")\n",
        "    gaji = input(\"Gaji?\")\n",
        "    data_pegawai[len(data_pegawai)-1].\n",
        "\n",
        "menu_tampilan()"
      ],
      "metadata": {
        "colab": {
          "base_uri": "https://localhost:8080/",
          "height": 814
        },
        "outputId": "df8796ea-72e6-4043-832d-cf96754ca85c",
        "id": "BGdsYL-dZk7r"
      },
      "execution_count": null,
      "outputs": [
        {
          "name": "stdout",
          "output_type": "stream",
          "text": [
            "\n",
            "\n",
            "Selamat Datang di Sistem Informasi Pegawai\n",
            "Silahkan Memilih Menu: \n",
            "1. Tambah Pegawai\n",
            "2. Edit Pegawai\n",
            "3. Hapus Pegawai\n",
            "4. Tampilkan Pegawai\n",
            "Menu apa yang anda pilih?1\n",
            "Nama?2\n",
            "Status?3\n",
            "Tahun?4\n",
            "Gaji?5\n",
            "\n",
            "\n",
            "Selamat Datang di Sistem Informasi Pegawai\n",
            "Silahkan Memilih Menu: \n",
            "1. Tambah Pegawai\n",
            "2. Edit Pegawai\n",
            "3. Hapus Pegawai\n",
            "4. Tampilkan Pegawai\n",
            "Menu apa yang anda pilih?2\n",
            "total: 1\n",
            "Nama?23\n",
            "Status?4\n",
            "Tahun?5\n"
          ]
        },
        {
          "output_type": "error",
          "ename": "KeyboardInterrupt",
          "evalue": "ignored",
          "traceback": [
            "\u001b[0;31m---------------------------------------------------------------------------\u001b[0m",
            "\u001b[0;31mKeyboardInterrupt\u001b[0m                         Traceback (most recent call last)",
            "\u001b[0;32m<ipython-input-46-07551afee6d2>\u001b[0m in \u001b[0;36m<module>\u001b[0;34m\u001b[0m\n\u001b[1;32m     38\u001b[0m     \u001b[0mgaji\u001b[0m \u001b[0;34m=\u001b[0m \u001b[0minput\u001b[0m\u001b[0;34m(\u001b[0m\u001b[0;34m\"Gaji?\"\u001b[0m\u001b[0;34m)\u001b[0m\u001b[0;34m\u001b[0m\u001b[0;34m\u001b[0m\u001b[0m\n\u001b[1;32m     39\u001b[0m \u001b[0;34m\u001b[0m\u001b[0m\n\u001b[0;32m---> 40\u001b[0;31m \u001b[0mmenu_tampilan\u001b[0m\u001b[0;34m(\u001b[0m\u001b[0;34m)\u001b[0m\u001b[0;34m\u001b[0m\u001b[0;34m\u001b[0m\u001b[0m\n\u001b[0m",
            "\u001b[0;32m<ipython-input-46-07551afee6d2>\u001b[0m in \u001b[0;36mmenu_tampilan\u001b[0;34m()\u001b[0m\n\u001b[1;32m     30\u001b[0m     \u001b[0mpegawai\u001b[0m\u001b[0;34m.\u001b[0m\u001b[0mset_data\u001b[0m\u001b[0;34m(\u001b[0m\u001b[0mname\u001b[0m\u001b[0;34m,\u001b[0m \u001b[0mstatus\u001b[0m\u001b[0;34m,\u001b[0m \u001b[0mtahun\u001b[0m\u001b[0;34m,\u001b[0m \u001b[0mgaji\u001b[0m\u001b[0;34m)\u001b[0m\u001b[0;34m\u001b[0m\u001b[0;34m\u001b[0m\u001b[0m\n\u001b[1;32m     31\u001b[0m     \u001b[0mdata_pegawai\u001b[0m\u001b[0;34m.\u001b[0m\u001b[0mappend\u001b[0m\u001b[0;34m(\u001b[0m\u001b[0mpegawai\u001b[0m\u001b[0;34m)\u001b[0m\u001b[0;34m\u001b[0m\u001b[0;34m\u001b[0m\u001b[0m\n\u001b[0;32m---> 32\u001b[0;31m     \u001b[0mmenu_tampilan\u001b[0m\u001b[0;34m(\u001b[0m\u001b[0;34m)\u001b[0m\u001b[0;34m\u001b[0m\u001b[0;34m\u001b[0m\u001b[0m\n\u001b[0m\u001b[1;32m     33\u001b[0m   \u001b[0;32melif\u001b[0m \u001b[0mmenu\u001b[0m \u001b[0;34m==\u001b[0m \u001b[0mstr\u001b[0m\u001b[0;34m(\u001b[0m\u001b[0;36m2\u001b[0m\u001b[0;34m)\u001b[0m\u001b[0;34m:\u001b[0m\u001b[0;34m\u001b[0m\u001b[0;34m\u001b[0m\u001b[0m\n\u001b[1;32m     34\u001b[0m     \u001b[0mprint\u001b[0m\u001b[0;34m(\u001b[0m\u001b[0;34m'total: '\u001b[0m \u001b[0;34m+\u001b[0m \u001b[0mstr\u001b[0m\u001b[0;34m(\u001b[0m\u001b[0mlen\u001b[0m\u001b[0;34m(\u001b[0m\u001b[0mdata_pegawai\u001b[0m\u001b[0;34m)\u001b[0m\u001b[0;34m)\u001b[0m\u001b[0;34m)\u001b[0m\u001b[0;34m\u001b[0m\u001b[0;34m\u001b[0m\u001b[0m\n",
            "\u001b[0;32m<ipython-input-46-07551afee6d2>\u001b[0m in \u001b[0;36mmenu_tampilan\u001b[0;34m()\u001b[0m\n\u001b[1;32m     36\u001b[0m     \u001b[0mstatus\u001b[0m \u001b[0;34m=\u001b[0m \u001b[0minput\u001b[0m\u001b[0;34m(\u001b[0m\u001b[0;34m\"Status?\"\u001b[0m\u001b[0;34m)\u001b[0m\u001b[0;34m\u001b[0m\u001b[0;34m\u001b[0m\u001b[0m\n\u001b[1;32m     37\u001b[0m     \u001b[0mtahun\u001b[0m \u001b[0;34m=\u001b[0m \u001b[0minput\u001b[0m\u001b[0;34m(\u001b[0m\u001b[0;34m\"Tahun?\"\u001b[0m\u001b[0;34m)\u001b[0m\u001b[0;34m\u001b[0m\u001b[0;34m\u001b[0m\u001b[0m\n\u001b[0;32m---> 38\u001b[0;31m     \u001b[0mgaji\u001b[0m \u001b[0;34m=\u001b[0m \u001b[0minput\u001b[0m\u001b[0;34m(\u001b[0m\u001b[0;34m\"Gaji?\"\u001b[0m\u001b[0;34m)\u001b[0m\u001b[0;34m\u001b[0m\u001b[0;34m\u001b[0m\u001b[0m\n\u001b[0m\u001b[1;32m     39\u001b[0m \u001b[0;34m\u001b[0m\u001b[0m\n\u001b[1;32m     40\u001b[0m \u001b[0mmenu_tampilan\u001b[0m\u001b[0;34m(\u001b[0m\u001b[0;34m)\u001b[0m\u001b[0;34m\u001b[0m\u001b[0;34m\u001b[0m\u001b[0m\n",
            "\u001b[0;32m/usr/local/lib/python3.7/dist-packages/ipykernel/kernelbase.py\u001b[0m in \u001b[0;36mraw_input\u001b[0;34m(self, prompt)\u001b[0m\n\u001b[1;32m    861\u001b[0m             \u001b[0mself\u001b[0m\u001b[0;34m.\u001b[0m\u001b[0m_parent_ident\u001b[0m\u001b[0;34m,\u001b[0m\u001b[0;34m\u001b[0m\u001b[0;34m\u001b[0m\u001b[0m\n\u001b[1;32m    862\u001b[0m             \u001b[0mself\u001b[0m\u001b[0;34m.\u001b[0m\u001b[0m_parent_header\u001b[0m\u001b[0;34m,\u001b[0m\u001b[0;34m\u001b[0m\u001b[0;34m\u001b[0m\u001b[0m\n\u001b[0;32m--> 863\u001b[0;31m             \u001b[0mpassword\u001b[0m\u001b[0;34m=\u001b[0m\u001b[0;32mFalse\u001b[0m\u001b[0;34m,\u001b[0m\u001b[0;34m\u001b[0m\u001b[0;34m\u001b[0m\u001b[0m\n\u001b[0m\u001b[1;32m    864\u001b[0m         )\n\u001b[1;32m    865\u001b[0m \u001b[0;34m\u001b[0m\u001b[0m\n",
            "\u001b[0;32m/usr/local/lib/python3.7/dist-packages/ipykernel/kernelbase.py\u001b[0m in \u001b[0;36m_input_request\u001b[0;34m(self, prompt, ident, parent, password)\u001b[0m\n\u001b[1;32m    902\u001b[0m             \u001b[0;32mexcept\u001b[0m \u001b[0mKeyboardInterrupt\u001b[0m\u001b[0;34m:\u001b[0m\u001b[0;34m\u001b[0m\u001b[0;34m\u001b[0m\u001b[0m\n\u001b[1;32m    903\u001b[0m                 \u001b[0;31m# re-raise KeyboardInterrupt, to truncate traceback\u001b[0m\u001b[0;34m\u001b[0m\u001b[0;34m\u001b[0m\u001b[0;34m\u001b[0m\u001b[0m\n\u001b[0;32m--> 904\u001b[0;31m                 \u001b[0;32mraise\u001b[0m \u001b[0mKeyboardInterrupt\u001b[0m\u001b[0;34m(\u001b[0m\u001b[0;34m\"Interrupted by user\"\u001b[0m\u001b[0;34m)\u001b[0m \u001b[0;32mfrom\u001b[0m \u001b[0;32mNone\u001b[0m\u001b[0;34m\u001b[0m\u001b[0;34m\u001b[0m\u001b[0m\n\u001b[0m\u001b[1;32m    905\u001b[0m             \u001b[0;32mexcept\u001b[0m \u001b[0mException\u001b[0m \u001b[0;32mas\u001b[0m \u001b[0me\u001b[0m\u001b[0;34m:\u001b[0m\u001b[0;34m\u001b[0m\u001b[0;34m\u001b[0m\u001b[0m\n\u001b[1;32m    906\u001b[0m                 \u001b[0mself\u001b[0m\u001b[0;34m.\u001b[0m\u001b[0mlog\u001b[0m\u001b[0;34m.\u001b[0m\u001b[0mwarning\u001b[0m\u001b[0;34m(\u001b[0m\u001b[0;34m\"Invalid Message:\"\u001b[0m\u001b[0;34m,\u001b[0m \u001b[0mexc_info\u001b[0m\u001b[0;34m=\u001b[0m\u001b[0;32mTrue\u001b[0m\u001b[0;34m)\u001b[0m\u001b[0;34m\u001b[0m\u001b[0;34m\u001b[0m\u001b[0m\n",
            "\u001b[0;31mKeyboardInterrupt\u001b[0m: Interrupted by user"
          ]
        }
      ]
    },
    {
      "cell_type": "code",
      "source": [
        "import pandas as pd\n",
        "class Pegawai:\n",
        "  def __init__(self):\n",
        "    self.name = []\n",
        "    self.status = []\n",
        "    self.tahun = []\n",
        "    self.gaji = []\n",
        "\n",
        "  def get_data(self):\n",
        "    print(self.name, self.status, self.tahun, self.gaji)\n",
        "\n",
        "  def set_data(self, name, status , tahun, gaji):\n",
        "    self.name.append(name)\n",
        "    self.status.append(status)\n",
        "    self.tahun.append(tahun)\n",
        "    self.gaji.append(gaji)\n",
        "    \n",
        "  def set_datalast(self, name, status , tahun, gaji):\n",
        "    self.name[len(self.name)-1]=name\n",
        "    self.status[len(self.status)-1]=status\n",
        "    self.tahun[len(self.tahun)-1]=tahun\n",
        "    self.gaji[len(self.gaji)-1]=gaji\n",
        "\n",
        "  def print_data(self):\n",
        "    df = pd.DataFrame({\"Name\":self.name,\"Status\":self.status,\"Tahun\":self.tahun,\"Gaji\":self.gaji})\n",
        "    print(df.head())\n",
        "  def remove_data(self, index):\n",
        "    self.name.pop(index)\n",
        "    self.status.pop(index)\n",
        "    self.tahun.pop(index)\n",
        "    self.gaji.pop(index)\n",
        "\n",
        "\n",
        "data_pegawai = []\n",
        "pegawai = Pegawai()\n",
        "\n",
        "def menu_tampilan():\n",
        "  print(\"\\n\\nSelamat Datang di Sistem Informasi Pegawai\")\n",
        "  print(\"Silahkan Memilih Menu: \")\n",
        "  print(\"1. Tambah Pegawai\" + \"\\n\" + \"2. Edit Pegawai\")\n",
        "  print(\"3. Hapus Pegawai\")\n",
        "  print(\"4. Tampilkan Pegawai\")\n",
        "  menu = input(\"Menu apa yang anda pilih?\")\n",
        "\n",
        "  if menu == str(1):\n",
        "    name = input(\"Nama?\")\n",
        "    status = input(\"Status?\")\n",
        "    tahun = input(\"Tahun?\")\n",
        "    gaji = input(\"Gaji?\")\n",
        "\n",
        "    pegawai.set_data(name, status, tahun, gaji)\n",
        "    menu_tampilan()\n",
        "  elif menu == str(2):\n",
        "    name = input(\"Nama?\")\n",
        "    status = input(\"Status?\")\n",
        "    tahun = input(\"Tahun?\")\n",
        "    gaji = input(\"Gaji?\")\n",
        "    pegawai.set_datalast(name, status, tahun, gaji)\n",
        "    menu_tampilan()\n",
        "\n",
        "  elif menu == str(4):\n",
        "    pegawai.print_data()\n",
        "    menu_tampilan()\n",
        "  \n",
        "    \n",
        "  elif menu == str(3):\n",
        "    pegawai.print_data()\n",
        "    index = int(input(\"Pilih data yang mau dihapus:\"))  \n",
        "    pegawai.remove_data(index)\n",
        "    menu_tampilan()\n",
        "\n",
        "\n",
        "menu_tampilan()\n"
      ],
      "metadata": {
        "colab": {
          "base_uri": "https://localhost:8080/",
          "height": 1000
        },
        "outputId": "0651222f-ce73-4f3f-9c95-47ab27d99d29",
        "id": "kOYKzl6pZpp7"
      },
      "execution_count": null,
      "outputs": [
        {
          "output_type": "stream",
          "name": "stdout",
          "text": [
            "\n",
            "\n",
            "Selamat Datang di Sistem Informasi Pegawai\n",
            "Silahkan Memilih Menu: \n",
            "1. Tambah Pegawai\n",
            "2. Edit Pegawai\n",
            "3. Hapus Pegawai\n",
            "4. Tampilkan Pegawai\n",
            "Menu apa yang anda pilih?1\n",
            "Nama?Matthew\n",
            "Status?O\n",
            "Tahun?2020\n",
            "Gaji?10\n",
            "\n",
            "\n",
            "Selamat Datang di Sistem Informasi Pegawai\n",
            "Silahkan Memilih Menu: \n",
            "1. Tambah Pegawai\n",
            "2. Edit Pegawai\n",
            "3. Hapus Pegawai\n",
            "4. Tampilkan Pegawai\n",
            "Menu apa yang anda pilih?1\n",
            "Nama?Pijar\n",
            "Status?k\n",
            "Tahun?1999\n",
            "Gaji?0\n",
            "\n",
            "\n",
            "Selamat Datang di Sistem Informasi Pegawai\n",
            "Silahkan Memilih Menu: \n",
            "1. Tambah Pegawai\n",
            "2. Edit Pegawai\n",
            "3. Hapus Pegawai\n",
            "4. Tampilkan Pegawai\n",
            "Menu apa yang anda pilih?4\n",
            "      Name Status Tahun Gaji\n",
            "0  Matthew      O  2020   10\n",
            "1    Pijar      k  1999    0\n",
            "\n",
            "\n",
            "Selamat Datang di Sistem Informasi Pegawai\n",
            "Silahkan Memilih Menu: \n",
            "1. Tambah Pegawai\n",
            "2. Edit Pegawai\n",
            "3. Hapus Pegawai\n",
            "4. Tampilkan Pegawai\n",
            "Menu apa yang anda pilih?2\n",
            "Nama?e\n",
            "Status?r\n",
            "Tahun?1945\n",
            "Gaji?-1\n",
            "\n",
            "\n",
            "Selamat Datang di Sistem Informasi Pegawai\n",
            "Silahkan Memilih Menu: \n",
            "1. Tambah Pegawai\n",
            "2. Edit Pegawai\n",
            "3. Hapus Pegawai\n",
            "4. Tampilkan Pegawai\n",
            "Menu apa yang anda pilih?3\n",
            "      Name Status Tahun Gaji\n",
            "0  Matthew      O  2020   10\n",
            "1        e      r  1945   -1\n",
            "Pilih data yang mau dihapus:0\n",
            "\n",
            "\n",
            "Selamat Datang di Sistem Informasi Pegawai\n",
            "Silahkan Memilih Menu: \n",
            "1. Tambah Pegawai\n",
            "2. Edit Pegawai\n",
            "3. Hapus Pegawai\n",
            "4. Tampilkan Pegawai\n",
            "Menu apa yang anda pilih?4\n",
            "  Name Status Tahun Gaji\n",
            "0    e      r  1945   -1\n",
            "\n",
            "\n",
            "Selamat Datang di Sistem Informasi Pegawai\n",
            "Silahkan Memilih Menu: \n",
            "1. Tambah Pegawai\n",
            "2. Edit Pegawai\n",
            "3. Hapus Pegawai\n",
            "4. Tampilkan Pegawai\n"
          ]
        },
        {
          "output_type": "error",
          "ename": "KeyboardInterrupt",
          "evalue": "ignored",
          "traceback": [
            "\u001b[0;31m---------------------------------------------------------------------------\u001b[0m",
            "\u001b[0;31mKeyboardInterrupt\u001b[0m                         Traceback (most recent call last)",
            "\u001b[0;32m<ipython-input-45-04ad95277163>\u001b[0m in \u001b[0;36m<module>\u001b[0;34m\u001b[0m\n\u001b[1;32m     71\u001b[0m \u001b[0;34m\u001b[0m\u001b[0m\n\u001b[1;32m     72\u001b[0m \u001b[0;34m\u001b[0m\u001b[0m\n\u001b[0;32m---> 73\u001b[0;31m \u001b[0mmenu_tampilan\u001b[0m\u001b[0;34m(\u001b[0m\u001b[0;34m)\u001b[0m\u001b[0;34m\u001b[0m\u001b[0;34m\u001b[0m\u001b[0m\n\u001b[0m",
            "\u001b[0;32m<ipython-input-45-04ad95277163>\u001b[0m in \u001b[0;36mmenu_tampilan\u001b[0;34m()\u001b[0m\n\u001b[1;32m     50\u001b[0m \u001b[0;34m\u001b[0m\u001b[0m\n\u001b[1;32m     51\u001b[0m     \u001b[0mpegawai\u001b[0m\u001b[0;34m.\u001b[0m\u001b[0mset_data\u001b[0m\u001b[0;34m(\u001b[0m\u001b[0mname\u001b[0m\u001b[0;34m,\u001b[0m \u001b[0mstatus\u001b[0m\u001b[0;34m,\u001b[0m \u001b[0mtahun\u001b[0m\u001b[0;34m,\u001b[0m \u001b[0mgaji\u001b[0m\u001b[0;34m)\u001b[0m\u001b[0;34m\u001b[0m\u001b[0;34m\u001b[0m\u001b[0m\n\u001b[0;32m---> 52\u001b[0;31m     \u001b[0mmenu_tampilan\u001b[0m\u001b[0;34m(\u001b[0m\u001b[0;34m)\u001b[0m\u001b[0;34m\u001b[0m\u001b[0;34m\u001b[0m\u001b[0m\n\u001b[0m\u001b[1;32m     53\u001b[0m   \u001b[0;32melif\u001b[0m \u001b[0mmenu\u001b[0m \u001b[0;34m==\u001b[0m \u001b[0mstr\u001b[0m\u001b[0;34m(\u001b[0m\u001b[0;36m2\u001b[0m\u001b[0;34m)\u001b[0m\u001b[0;34m:\u001b[0m\u001b[0;34m\u001b[0m\u001b[0;34m\u001b[0m\u001b[0m\n\u001b[1;32m     54\u001b[0m     \u001b[0mname\u001b[0m \u001b[0;34m=\u001b[0m \u001b[0minput\u001b[0m\u001b[0;34m(\u001b[0m\u001b[0;34m\"Nama?\"\u001b[0m\u001b[0;34m)\u001b[0m\u001b[0;34m\u001b[0m\u001b[0;34m\u001b[0m\u001b[0m\n",
            "\u001b[0;32m<ipython-input-45-04ad95277163>\u001b[0m in \u001b[0;36mmenu_tampilan\u001b[0;34m()\u001b[0m\n\u001b[1;32m     50\u001b[0m \u001b[0;34m\u001b[0m\u001b[0m\n\u001b[1;32m     51\u001b[0m     \u001b[0mpegawai\u001b[0m\u001b[0;34m.\u001b[0m\u001b[0mset_data\u001b[0m\u001b[0;34m(\u001b[0m\u001b[0mname\u001b[0m\u001b[0;34m,\u001b[0m \u001b[0mstatus\u001b[0m\u001b[0;34m,\u001b[0m \u001b[0mtahun\u001b[0m\u001b[0;34m,\u001b[0m \u001b[0mgaji\u001b[0m\u001b[0;34m)\u001b[0m\u001b[0;34m\u001b[0m\u001b[0;34m\u001b[0m\u001b[0m\n\u001b[0;32m---> 52\u001b[0;31m     \u001b[0mmenu_tampilan\u001b[0m\u001b[0;34m(\u001b[0m\u001b[0;34m)\u001b[0m\u001b[0;34m\u001b[0m\u001b[0;34m\u001b[0m\u001b[0m\n\u001b[0m\u001b[1;32m     53\u001b[0m   \u001b[0;32melif\u001b[0m \u001b[0mmenu\u001b[0m \u001b[0;34m==\u001b[0m \u001b[0mstr\u001b[0m\u001b[0;34m(\u001b[0m\u001b[0;36m2\u001b[0m\u001b[0;34m)\u001b[0m\u001b[0;34m:\u001b[0m\u001b[0;34m\u001b[0m\u001b[0;34m\u001b[0m\u001b[0m\n\u001b[1;32m     54\u001b[0m     \u001b[0mname\u001b[0m \u001b[0;34m=\u001b[0m \u001b[0minput\u001b[0m\u001b[0;34m(\u001b[0m\u001b[0;34m\"Nama?\"\u001b[0m\u001b[0;34m)\u001b[0m\u001b[0;34m\u001b[0m\u001b[0;34m\u001b[0m\u001b[0m\n",
            "\u001b[0;32m<ipython-input-45-04ad95277163>\u001b[0m in \u001b[0;36mmenu_tampilan\u001b[0;34m()\u001b[0m\n\u001b[1;32m     61\u001b[0m   \u001b[0;32melif\u001b[0m \u001b[0mmenu\u001b[0m \u001b[0;34m==\u001b[0m \u001b[0mstr\u001b[0m\u001b[0;34m(\u001b[0m\u001b[0;36m4\u001b[0m\u001b[0;34m)\u001b[0m\u001b[0;34m:\u001b[0m\u001b[0;34m\u001b[0m\u001b[0;34m\u001b[0m\u001b[0m\n\u001b[1;32m     62\u001b[0m     \u001b[0mpegawai\u001b[0m\u001b[0;34m.\u001b[0m\u001b[0mprint_data\u001b[0m\u001b[0;34m(\u001b[0m\u001b[0;34m)\u001b[0m\u001b[0;34m\u001b[0m\u001b[0;34m\u001b[0m\u001b[0m\n\u001b[0;32m---> 63\u001b[0;31m     \u001b[0mmenu_tampilan\u001b[0m\u001b[0;34m(\u001b[0m\u001b[0;34m)\u001b[0m\u001b[0;34m\u001b[0m\u001b[0;34m\u001b[0m\u001b[0m\n\u001b[0m\u001b[1;32m     64\u001b[0m \u001b[0;34m\u001b[0m\u001b[0m\n\u001b[1;32m     65\u001b[0m \u001b[0;34m\u001b[0m\u001b[0m\n",
            "\u001b[0;32m<ipython-input-45-04ad95277163>\u001b[0m in \u001b[0;36mmenu_tampilan\u001b[0;34m()\u001b[0m\n\u001b[1;32m     57\u001b[0m     \u001b[0mgaji\u001b[0m \u001b[0;34m=\u001b[0m \u001b[0minput\u001b[0m\u001b[0;34m(\u001b[0m\u001b[0;34m\"Gaji?\"\u001b[0m\u001b[0;34m)\u001b[0m\u001b[0;34m\u001b[0m\u001b[0;34m\u001b[0m\u001b[0m\n\u001b[1;32m     58\u001b[0m     \u001b[0mpegawai\u001b[0m\u001b[0;34m.\u001b[0m\u001b[0mset_datalast\u001b[0m\u001b[0;34m(\u001b[0m\u001b[0mname\u001b[0m\u001b[0;34m,\u001b[0m \u001b[0mstatus\u001b[0m\u001b[0;34m,\u001b[0m \u001b[0mtahun\u001b[0m\u001b[0;34m,\u001b[0m \u001b[0mgaji\u001b[0m\u001b[0;34m)\u001b[0m\u001b[0;34m\u001b[0m\u001b[0;34m\u001b[0m\u001b[0m\n\u001b[0;32m---> 59\u001b[0;31m     \u001b[0mmenu_tampilan\u001b[0m\u001b[0;34m(\u001b[0m\u001b[0;34m)\u001b[0m\u001b[0;34m\u001b[0m\u001b[0;34m\u001b[0m\u001b[0m\n\u001b[0m\u001b[1;32m     60\u001b[0m \u001b[0;34m\u001b[0m\u001b[0m\n\u001b[1;32m     61\u001b[0m   \u001b[0;32melif\u001b[0m \u001b[0mmenu\u001b[0m \u001b[0;34m==\u001b[0m \u001b[0mstr\u001b[0m\u001b[0;34m(\u001b[0m\u001b[0;36m4\u001b[0m\u001b[0;34m)\u001b[0m\u001b[0;34m:\u001b[0m\u001b[0;34m\u001b[0m\u001b[0;34m\u001b[0m\u001b[0m\n",
            "\u001b[0;32m<ipython-input-45-04ad95277163>\u001b[0m in \u001b[0;36mmenu_tampilan\u001b[0;34m()\u001b[0m\n\u001b[1;32m     68\u001b[0m     \u001b[0mindex\u001b[0m \u001b[0;34m=\u001b[0m \u001b[0mint\u001b[0m\u001b[0;34m(\u001b[0m\u001b[0minput\u001b[0m\u001b[0;34m(\u001b[0m\u001b[0;34m\"Pilih data yang mau dihapus:\"\u001b[0m\u001b[0;34m)\u001b[0m\u001b[0;34m)\u001b[0m\u001b[0;34m\u001b[0m\u001b[0;34m\u001b[0m\u001b[0m\n\u001b[1;32m     69\u001b[0m     \u001b[0mpegawai\u001b[0m\u001b[0;34m.\u001b[0m\u001b[0mremove_data\u001b[0m\u001b[0;34m(\u001b[0m\u001b[0mindex\u001b[0m\u001b[0;34m)\u001b[0m\u001b[0;34m\u001b[0m\u001b[0;34m\u001b[0m\u001b[0m\n\u001b[0;32m---> 70\u001b[0;31m     \u001b[0mmenu_tampilan\u001b[0m\u001b[0;34m(\u001b[0m\u001b[0;34m)\u001b[0m\u001b[0;34m\u001b[0m\u001b[0;34m\u001b[0m\u001b[0m\n\u001b[0m\u001b[1;32m     71\u001b[0m \u001b[0;34m\u001b[0m\u001b[0m\n\u001b[1;32m     72\u001b[0m \u001b[0;34m\u001b[0m\u001b[0m\n",
            "\u001b[0;32m<ipython-input-45-04ad95277163>\u001b[0m in \u001b[0;36mmenu_tampilan\u001b[0;34m()\u001b[0m\n\u001b[1;32m     61\u001b[0m   \u001b[0;32melif\u001b[0m \u001b[0mmenu\u001b[0m \u001b[0;34m==\u001b[0m \u001b[0mstr\u001b[0m\u001b[0;34m(\u001b[0m\u001b[0;36m4\u001b[0m\u001b[0;34m)\u001b[0m\u001b[0;34m:\u001b[0m\u001b[0;34m\u001b[0m\u001b[0;34m\u001b[0m\u001b[0m\n\u001b[1;32m     62\u001b[0m     \u001b[0mpegawai\u001b[0m\u001b[0;34m.\u001b[0m\u001b[0mprint_data\u001b[0m\u001b[0;34m(\u001b[0m\u001b[0;34m)\u001b[0m\u001b[0;34m\u001b[0m\u001b[0;34m\u001b[0m\u001b[0m\n\u001b[0;32m---> 63\u001b[0;31m     \u001b[0mmenu_tampilan\u001b[0m\u001b[0;34m(\u001b[0m\u001b[0;34m)\u001b[0m\u001b[0;34m\u001b[0m\u001b[0;34m\u001b[0m\u001b[0m\n\u001b[0m\u001b[1;32m     64\u001b[0m \u001b[0;34m\u001b[0m\u001b[0m\n\u001b[1;32m     65\u001b[0m \u001b[0;34m\u001b[0m\u001b[0m\n",
            "\u001b[0;32m<ipython-input-45-04ad95277163>\u001b[0m in \u001b[0;36mmenu_tampilan\u001b[0;34m()\u001b[0m\n\u001b[1;32m     41\u001b[0m   \u001b[0mprint\u001b[0m\u001b[0;34m(\u001b[0m\u001b[0;34m\"3. Hapus Pegawai\"\u001b[0m\u001b[0;34m)\u001b[0m\u001b[0;34m\u001b[0m\u001b[0;34m\u001b[0m\u001b[0m\n\u001b[1;32m     42\u001b[0m   \u001b[0mprint\u001b[0m\u001b[0;34m(\u001b[0m\u001b[0;34m\"4. Tampilkan Pegawai\"\u001b[0m\u001b[0;34m)\u001b[0m\u001b[0;34m\u001b[0m\u001b[0;34m\u001b[0m\u001b[0m\n\u001b[0;32m---> 43\u001b[0;31m   \u001b[0mmenu\u001b[0m \u001b[0;34m=\u001b[0m \u001b[0minput\u001b[0m\u001b[0;34m(\u001b[0m\u001b[0;34m\"Menu apa yang anda pilih?\"\u001b[0m\u001b[0;34m)\u001b[0m\u001b[0;34m\u001b[0m\u001b[0;34m\u001b[0m\u001b[0m\n\u001b[0m\u001b[1;32m     44\u001b[0m \u001b[0;34m\u001b[0m\u001b[0m\n\u001b[1;32m     45\u001b[0m   \u001b[0;32mif\u001b[0m \u001b[0mmenu\u001b[0m \u001b[0;34m==\u001b[0m \u001b[0mstr\u001b[0m\u001b[0;34m(\u001b[0m\u001b[0;36m1\u001b[0m\u001b[0;34m)\u001b[0m\u001b[0;34m:\u001b[0m\u001b[0;34m\u001b[0m\u001b[0;34m\u001b[0m\u001b[0m\n",
            "\u001b[0;32m/usr/local/lib/python3.7/dist-packages/ipykernel/kernelbase.py\u001b[0m in \u001b[0;36mraw_input\u001b[0;34m(self, prompt)\u001b[0m\n\u001b[1;32m    861\u001b[0m             \u001b[0mself\u001b[0m\u001b[0;34m.\u001b[0m\u001b[0m_parent_ident\u001b[0m\u001b[0;34m,\u001b[0m\u001b[0;34m\u001b[0m\u001b[0;34m\u001b[0m\u001b[0m\n\u001b[1;32m    862\u001b[0m             \u001b[0mself\u001b[0m\u001b[0;34m.\u001b[0m\u001b[0m_parent_header\u001b[0m\u001b[0;34m,\u001b[0m\u001b[0;34m\u001b[0m\u001b[0;34m\u001b[0m\u001b[0m\n\u001b[0;32m--> 863\u001b[0;31m             \u001b[0mpassword\u001b[0m\u001b[0;34m=\u001b[0m\u001b[0;32mFalse\u001b[0m\u001b[0;34m,\u001b[0m\u001b[0;34m\u001b[0m\u001b[0;34m\u001b[0m\u001b[0m\n\u001b[0m\u001b[1;32m    864\u001b[0m         )\n\u001b[1;32m    865\u001b[0m \u001b[0;34m\u001b[0m\u001b[0m\n",
            "\u001b[0;32m/usr/local/lib/python3.7/dist-packages/ipykernel/kernelbase.py\u001b[0m in \u001b[0;36m_input_request\u001b[0;34m(self, prompt, ident, parent, password)\u001b[0m\n\u001b[1;32m    902\u001b[0m             \u001b[0;32mexcept\u001b[0m \u001b[0mKeyboardInterrupt\u001b[0m\u001b[0;34m:\u001b[0m\u001b[0;34m\u001b[0m\u001b[0;34m\u001b[0m\u001b[0m\n\u001b[1;32m    903\u001b[0m                 \u001b[0;31m# re-raise KeyboardInterrupt, to truncate traceback\u001b[0m\u001b[0;34m\u001b[0m\u001b[0;34m\u001b[0m\u001b[0;34m\u001b[0m\u001b[0m\n\u001b[0;32m--> 904\u001b[0;31m                 \u001b[0;32mraise\u001b[0m \u001b[0mKeyboardInterrupt\u001b[0m\u001b[0;34m(\u001b[0m\u001b[0;34m\"Interrupted by user\"\u001b[0m\u001b[0;34m)\u001b[0m \u001b[0;32mfrom\u001b[0m \u001b[0;32mNone\u001b[0m\u001b[0;34m\u001b[0m\u001b[0;34m\u001b[0m\u001b[0m\n\u001b[0m\u001b[1;32m    905\u001b[0m             \u001b[0;32mexcept\u001b[0m \u001b[0mException\u001b[0m \u001b[0;32mas\u001b[0m \u001b[0me\u001b[0m\u001b[0;34m:\u001b[0m\u001b[0;34m\u001b[0m\u001b[0;34m\u001b[0m\u001b[0m\n\u001b[1;32m    906\u001b[0m                 \u001b[0mself\u001b[0m\u001b[0;34m.\u001b[0m\u001b[0mlog\u001b[0m\u001b[0;34m.\u001b[0m\u001b[0mwarning\u001b[0m\u001b[0;34m(\u001b[0m\u001b[0;34m\"Invalid Message:\"\u001b[0m\u001b[0;34m,\u001b[0m \u001b[0mexc_info\u001b[0m\u001b[0;34m=\u001b[0m\u001b[0;32mTrue\u001b[0m\u001b[0;34m)\u001b[0m\u001b[0;34m\u001b[0m\u001b[0;34m\u001b[0m\u001b[0m\n",
            "\u001b[0;31mKeyboardInterrupt\u001b[0m: Interrupted by user"
          ]
        }
      ]
    },
    {
      "cell_type": "code",
      "source": [],
      "metadata": {
        "id": "Mpzuxzh4dLqm"
      },
      "execution_count": null,
      "outputs": []
    },
    {
      "cell_type": "code",
      "source": [
        "c12pegawai.status"
      ],
      "metadata": {
        "id": "4Z4ENhrHe1JA",
        "colab": {
          "base_uri": "https://localhost:8080/"
        },
        "outputId": "ef44744e-e38e-473d-ecb6-f49b5d36fa79"
      },
      "execution_count": null,
      "outputs": [
        {
          "output_type": "execute_result",
          "data": {
            "text/plain": [
              "['1', '3', '4']"
            ]
          },
          "metadata": {},
          "execution_count": 34
        }
      ]
    },
    {
      "cell_type": "code",
      "source": [],
      "metadata": {
        "id": "0WSoDNLLTt6p"
      },
      "execution_count": null,
      "outputs": []
    }
  ]
}